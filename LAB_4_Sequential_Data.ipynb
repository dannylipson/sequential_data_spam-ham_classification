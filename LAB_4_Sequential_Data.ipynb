{
  "nbformat": 4,
  "nbformat_minor": 0,
  "metadata": {
    "colab": {
      "name": "LAB_4_Sequential_Data.ipynb",
      "provenance": [],
      "collapsed_sections": [
        "rWiUqJJTa9z6"
      ]
    },
    "kernelspec": {
      "name": "python3",
      "display_name": "Python 3"
    },
    "language_info": {
      "name": "python"
    },
    "accelerator": "GPU"
  },
  "cells": [
    {
      "cell_type": "markdown",
      "metadata": {
        "id": "_bphECiUa9zw"
      },
      "source": [
        "# Lab 4: Sequential Data\n",
        "\n",
        "This lab is based on an assignment developed by Prof. Lisa Zhang.\n",
        "\n",
        "In this assignment, we will build a recurrent neural network to classify a SMS text message\n",
        "as \"spam\" or \"not spam\". In the process, you will\n",
        "    \n",
        "1. Clean and process text data for machine learning.\n",
        "2. Understand and implement a character-level recurrent neural network.\n",
        "3. Use torchtext to build recurrent neural network models.\n",
        "4. Understand batching for a recurrent neural network, and use torchtext to implement RNN batching.\n",
        "5. Understand how transfer learning can be applied to NLP projects.\n",
        "\n",
        "### What to submit\n",
        "\n",
        "Submit an HTML file containing all your code, outputs, and write-up\n",
        "from parts A and B. You can produce a HTML file directly from Google Colab. The Colab instructions are provided at the end of this document.\n",
        "\n",
        "**Do not submit any other files produced by your code.**\n",
        "\n",
        "Include a link to your colab file in your submission.\n",
        "\n",
        "Please use Google Colab to complete this assignment. If you want to use Jupyter Notebook, please complete the assignment and upload your Jupyter Notebook file to Google Colab for submission. "
      ]
    },
    {
      "cell_type": "markdown",
      "metadata": {
        "id": "rWiUqJJTa9z6"
      },
      "source": [
        "## Colab Link\n",
        "\n",
        "Include a link to your colab file here\n",
        "\n",
        "Colab Link: https://colab.research.google.com/drive/1al-kQLtuIb0OvJ-0UIs97DZCpcfVEDlP#scrollTo=l-k2PEshW81f"
      ]
    },
    {
      "cell_type": "markdown",
      "metadata": {
        "id": "fFMdtipUPNdu"
      },
      "source": [
        "# PART A - Spam Detection [30 pt]\n",
        "\n",
        "In this part we will construct a LSTM model for identifying spam from non spam messages."
      ]
    },
    {
      "cell_type": "code",
      "metadata": {
        "id": "HgfNOUaPa9z8"
      },
      "source": [
        "import torch\n",
        "import torch.nn as nn\n",
        "import torch.nn.functional as F\n",
        "import torch.optim as optim\n",
        "import numpy as np\n",
        "import zipfile\n",
        "import matplotlib.pyplot as plt\n",
        "import pandas as pd\n",
        "import torchtext\n"
      ],
      "execution_count": 1,
      "outputs": []
    },
    {
      "cell_type": "markdown",
      "metadata": {
        "id": "M0jLI9LBa90C"
      },
      "source": [
        "## Part 1. Data Cleaning [10 pt]\n",
        "\n",
        "We will be using the \"SMS Spam Collection Data Set\" available at http://archive.ics.uci.edu/ml/datasets/SMS+Spam+Collection\n",
        "\n",
        "There is a link to download the \"Data Folder\" at the very top of the webpage. Download the zip file, unzip it, and upload the file `SMSSpamCollection` to Colab.    "
      ]
    },
    {
      "cell_type": "markdown",
      "metadata": {
        "id": "sSuF7C_Ga90E"
      },
      "source": [
        "### Part (a) [1 pt]\n",
        "\n",
        "Open up the file in Python, and print out one example of a spam SMS, and one example of a non-spam SMS.\n",
        "\n",
        "What is the label value for a spam message, and what is the label value for a non-spam message?"
      ]
    },
    {
      "cell_type": "code",
      "source": [
        "zip_ref = zipfile.ZipFile(\"/content/smsspamcollection.zip\", 'r') #Reading the zip file \n",
        "zip_ref.extractall() # Extracting the zipped file\n",
        "zip_ref.close() # closing the file"
      ],
      "metadata": {
        "id": "mTRVTyUiddXS"
      },
      "execution_count": 2,
      "outputs": []
    },
    {
      "cell_type": "code",
      "source": [
        "import re\n",
        "ham_spam = []\n",
        "messages = []\n",
        "for line in open('SMSSpamCollection'):\n",
        "    first_word = re.split(\"\\s\", line)[0]\n",
        "    rem_words = \" \".join(re.split(\"\\s\",line)[1:-1])\n",
        "    ham_spam.append(first_word)\n",
        "    messages.append(rem_words)"
      ],
      "metadata": {
        "id": "U1GIZ6LgefuV"
      },
      "execution_count": 3,
      "outputs": []
    },
    {
      "cell_type": "code",
      "source": [
        "index_spam = ham_spam.index('spam')\n",
        "index_ham = ham_spam.index('ham')"
      ],
      "metadata": {
        "id": "ww_hmMn3GHaT"
      },
      "execution_count": 4,
      "outputs": []
    },
    {
      "cell_type": "code",
      "source": [
        "print(f\"Spam Message: {messages[index_spam]}\")\n",
        "print(f\"Ham Message: {messages[index_ham]}\")"
      ],
      "metadata": {
        "colab": {
          "base_uri": "https://localhost:8080/"
        },
        "id": "Dq0RVF1OEyRM",
        "outputId": "cb3e3b45-58d1-415e-90b1-1550b9ff13b9"
      },
      "execution_count": 5,
      "outputs": [
        {
          "output_type": "stream",
          "name": "stdout",
          "text": [
            "Spam Message: Free entry in 2 a wkly comp to win FA Cup final tkts 21st May 2005. Text FA to 87121 to receive entry question(std txt rate)T&C's apply 08452810075over18's\n",
            "Ham Message: Go until jurong point, crazy.. Available only in bugis n great world la e buffet... Cine there got amore wat...\n"
          ]
        }
      ]
    },
    {
      "cell_type": "markdown",
      "metadata": {
        "id": "AukA6vMVa90d"
      },
      "source": [
        "### Part (b) [1 pt]\n",
        "\n",
        "How many spam messages are there in the data set?\n",
        "How many non-spam messages are there in the data set?\n"
      ]
    },
    {
      "cell_type": "code",
      "source": [
        "from collections import Counter\n",
        "print(f\"There are {list(Counter(ham_spam).values())[0]} ham messages and {list(Counter(ham_spam).values())[1]} spam messages in the dataset\")"
      ],
      "metadata": {
        "colab": {
          "base_uri": "https://localhost:8080/"
        },
        "id": "lJdi86SJgQoI",
        "outputId": "92a4780a-c48b-4a60-bc05-ceee16560c5d"
      },
      "execution_count": 6,
      "outputs": [
        {
          "output_type": "stream",
          "name": "stdout",
          "text": [
            "There are 4827 ham messages and 747 spam messages in the dataset\n"
          ]
        }
      ]
    },
    {
      "cell_type": "markdown",
      "metadata": {
        "id": "d1WXxVt6a90h"
      },
      "source": [
        "### Part (c) [2 pt]\n",
        "\n",
        "We will be using the package `torchtext` to load, process, and batch the data.\n",
        "A tutorial to torchtext is available below. This tutorial uses the same\n",
        "Sentiment140 data set that we explored during lecture.\n",
        "\n",
        "https://medium.com/@sonicboom8/sentiment-analysis-torchtext-55fb57b1fab8\n",
        "\n",
        "Unlike what we did during lecture, we will be building a **character level RNN**.\n",
        "That is, we will treat each **character** as a token in our sequence,\n",
        "rather than each **word**.\n",
        "\n",
        "Identify two advantage and two disadvantage of modelling SMS text\n",
        "messages as a sequence of characters rather than a sequence of words."
      ]
    },
    {
      "cell_type": "markdown",
      "source": [
        "Advantages:\n",
        "\n",
        "1. Most of the text messages are characters rather than formal use of words in sentences, therefore will be able to classify spam / ham better\n",
        "2. Also, rather than the sequence of words, certain sequence of characters are more representative of the spam messages.\n",
        "\n",
        "Disadvantages:\n",
        "\n",
        "1. Too much noise in the dataset, it may learn certain unrepresentative data and can overfit.\n",
        "2. with Character level RNN, since there are more characters in a data line, it will take longer time to train character level RNN."
      ],
      "metadata": {
        "id": "XLsZqqRAZge2"
      }
    },
    {
      "cell_type": "markdown",
      "metadata": {
        "id": "ie_D0bv9a90k"
      },
      "source": [
        "### Part (d) [1 pt]\n",
        "\n",
        "We will be loading our data set using `torchtext.data.TabularDataset`. The\n",
        "constructor will read directly from the `SMSSpamCollection` file. \n",
        "\n",
        "For the data file to be read successfuly, we\n",
        "need to specify the **fields** (columns) in the file. \n",
        "In our case, the dataset has two fields: \n",
        "\n",
        "- a text field containing the sms messages,\n",
        "- a label field which will be converted into a binary label.\n",
        "\n",
        "Split the dataset into `train`, `valid`, and `test`. Use a 60-20-20 split.\n",
        "You may find this torchtext API page helpful:\n",
        "https://torchtext.readthedocs.io/en/latest/data.html#dataset\n",
        "\n",
        "Hint: There is a `Dataset` method that can perform the random split for you."
      ]
    },
    {
      "cell_type": "code",
      "metadata": {
        "id": "P_Y6Puz9a90l"
      },
      "source": [
        "import torchtext\n",
        "\n",
        "text_field = torchtext.legacy.data.Field(sequential=True,      # text sequence\n",
        "                                  tokenize=lambda x: x, # because are building a character-RNN\n",
        "                                  include_lengths=True, # to track the length of sequences, for batching\n",
        "                                  batch_first=True,\n",
        "                                  use_vocab=True)       # to turn each character into an integer index\n",
        "label_field = torchtext.legacy.data.Field(sequential=False,    # not a sequence\n",
        "                                   use_vocab=False,     # don't need to track vocabulary\n",
        "                                   is_target=True,      \n",
        "                                   batch_first=True,\n",
        "                                   preprocessing=lambda x: int(x == 'spam')) # convert text to 0 and 1\n",
        "\n",
        "fields = [('label', label_field), ('sms', text_field)]\n",
        "dataset = torchtext.legacy.data.TabularDataset(\"SMSSpamCollection\", # name of the file\n",
        "                                               \"tsv\",               # fields are separated by a tab\n",
        "                                               fields)\n",
        "\n",
        "# dataset[0].sms\n",
        "# dataset[0].label\n",
        "train, valid, test = dataset.split(split_ratio=[0.6,0.2,0.2])"
      ],
      "execution_count": 7,
      "outputs": []
    },
    {
      "cell_type": "code",
      "source": [
        "# checking the format of the dataset\n",
        "print(vars(dataset[0]))"
      ],
      "metadata": {
        "colab": {
          "base_uri": "https://localhost:8080/"
        },
        "id": "r1xBH-nDgh41",
        "outputId": "d6c61e30-e010-4f0d-bab4-0830b36f5f16"
      },
      "execution_count": 8,
      "outputs": [
        {
          "output_type": "stream",
          "name": "stdout",
          "text": [
            "{'label': 0, 'sms': 'Go until jurong point, crazy.. Available only in bugis n great world la e buffet... Cine there got amore wat...'}\n"
          ]
        }
      ]
    },
    {
      "cell_type": "code",
      "source": [
        "# checking if the split has happend correctly\n",
        "total_length = len(dataset)\n",
        "print(f\"Training set split: {round(len(train)/total_length,2)},\\nTesting set split: {round(len(test)/total_length,2)},\\nvalidation set split: {round(len(valid)/total_length,2)}\")"
      ],
      "metadata": {
        "colab": {
          "base_uri": "https://localhost:8080/"
        },
        "id": "wmsD07IWnM1b",
        "outputId": "9f6b6ce1-5a23-42d9-a72c-c53c454c2689"
      },
      "execution_count": 9,
      "outputs": [
        {
          "output_type": "stream",
          "name": "stdout",
          "text": [
            "Training set split: 0.6,\n",
            "Testing set split: 0.2,\n",
            "validation set split: 0.2\n"
          ]
        }
      ]
    },
    {
      "cell_type": "markdown",
      "metadata": {
        "id": "v6nP0Ks_a90o"
      },
      "source": [
        "### Part (e) [2 pt]\n",
        "\n",
        "You saw in part (b) that there are many more non-spam messages than spam messages.\n",
        "This **imbalance** in our training data will be problematic for training.\n",
        "We can fix this disparity by duplicating spam messages in the training set,\n",
        "so that the training set is roughly **balanced**.\n",
        "\n",
        "Explain why having a balanced training set is helpful for training our neural network.\n",
        "\n",
        "Note: if you are not sure, try removing the below code and train your mode."
      ]
    },
    {
      "cell_type": "code",
      "source": [
        "train_spam = [int(1) for i in range(len(train)) if vars(train[i])['label']==int(1)]\n",
        "print(f\"spam percentage in training set: {round((len(train_spam)/len(train))*100,2)}%\")"
      ],
      "metadata": {
        "colab": {
          "base_uri": "https://localhost:8080/"
        },
        "id": "yfrSNXJDpMFO",
        "outputId": "0a6d8e5c-1c31-42cd-892b-3685ceb25df7"
      },
      "execution_count": 10,
      "outputs": [
        {
          "output_type": "stream",
          "name": "stdout",
          "text": [
            "spam percentage in training set: 13.25%\n"
          ]
        }
      ]
    },
    {
      "cell_type": "markdown",
      "source": [
        "Observation: The available spam collection is very less for training, which may lead to overfitting to the spam collection and the model may not generalise properly, therefore duplicating more training samples."
      ],
      "metadata": {
        "id": "KWu3aRtOtbnh"
      }
    },
    {
      "cell_type": "code",
      "metadata": {
        "id": "FWvx9_rka90p"
      },
      "source": [
        "# save the original training examples\n",
        "old_train_examples = train.examples\n",
        "# get all the spam messages in `train`\n",
        "train_spam = []\n",
        "for item in train.examples:\n",
        "    if item.label == 1:\n",
        "        train_spam.append(item)\n",
        "# duplicate each spam message 6 more times\n",
        "train.examples = old_train_examples + train_spam * 6"
      ],
      "execution_count": 11,
      "outputs": []
    },
    {
      "cell_type": "code",
      "source": [
        "print(f\"training examples before duplication: {len(old_train_examples)} and after duplication: {len(train)}\")"
      ],
      "metadata": {
        "colab": {
          "base_uri": "https://localhost:8080/"
        },
        "id": "zHdy4N74uSi7",
        "outputId": "5b2a55d4-2b00-4bf8-ddfc-45d48a5199e9"
      },
      "execution_count": 12,
      "outputs": [
        {
          "output_type": "stream",
          "name": "stdout",
          "text": [
            "training examples before duplication: 3343 and after duplication: 6001\n"
          ]
        }
      ]
    },
    {
      "cell_type": "markdown",
      "metadata": {
        "id": "j7eUmBEva90r"
      },
      "source": [
        "### Part (f) [1 pt]\n",
        "\n",
        "We need to build the vocabulary on the training data by running the below code.\n",
        "This finds all the possible character tokens in the training set.\n",
        "\n",
        "Explain what the variables `text_field.vocab.stoi` and `text_field.vocab.itos` represent."
      ]
    },
    {
      "cell_type": "code",
      "metadata": {
        "id": "8CQM8flKa90s"
      },
      "source": [
        "text_field.build_vocab(train)\n",
        "#text_field.vocab.stoi\n",
        "#text_field.vocab.itos"
      ],
      "execution_count": 13,
      "outputs": []
    },
    {
      "cell_type": "markdown",
      "source": [
        "1. text_field.vocab.itos provides a list mapping indices to tokens.\n",
        "2. text_field.vocab.stoi provides a dictionary mapping tokens to indices"
      ],
      "metadata": {
        "id": "PtGtO78SvGpA"
      }
    },
    {
      "cell_type": "code",
      "source": [
        "print(text_field.vocab.stoi)"
      ],
      "metadata": {
        "colab": {
          "base_uri": "https://localhost:8080/"
        },
        "id": "HJ0u0eesvgit",
        "outputId": "7f9831bd-52ee-433a-ea55-6b68c6aff55d"
      },
      "execution_count": 14,
      "outputs": [
        {
          "output_type": "stream",
          "name": "stdout",
          "text": [
            "defaultdict(<bound method Vocab._default_unk_index of <torchtext.legacy.vocab.Vocab object at 0x7f0079913810>>, {'<unk>': 0, '<pad>': 1, ' ': 2, 'e': 3, 'o': 4, 't': 5, 'a': 6, 'n': 7, 'r': 8, 'i': 9, 's': 10, 'l': 11, 'u': 12, '0': 13, 'h': 14, 'd': 15, '.': 16, 'm': 17, 'c': 18, 'y': 19, 'w': 20, 'p': 21, 'g': 22, '1': 23, 'f': 24, '2': 25, 'b': 26, '8': 27, 'T': 28, 'k': 29, '5': 30, 'E': 31, 'v': 32, 'S': 33, 'C': 34, 'O': 35, 'I': 36, '4': 37, '7': 38, 'x': 39, 'N': 40, 'A': 41, '3': 42, '6': 43, 'R': 44, '!': 45, ',': 46, 'P': 47, '9': 48, 'U': 49, 'W': 50, 'M': 51, 'L': 52, 'H': 53, 'B': 54, 'D': 55, 'F': 56, 'G': 57, 'Y': 58, \"'\": 59, '/': 60, '?': 61, '£': 62, '-': 63, '&': 64, 'X': 65, ':': 66, 'z': 67, 'V': 68, '*': 69, 'j': 70, 'K': 71, ')': 72, '+': 73, 'J': 74, ';': 75, '(': 76, 'q': 77, 'Q': 78, '\"': 79, '#': 80, '>': 81, '@': 82, '=': 83, 'Z': 84, 'ü': 85, '<': 86, '$': 87, 'Ü': 88, '\\x92': 89, '|': 90, '_': 91, '%': 92, '‘': 93, '¡': 94, '…': 95, '’': 96, 'ú': 97, '“': 98, '–': 99, '\\\\': 100, '~': 101, '\\x96': 102, '\\t': 103, '\\n': 104, '[': 105, ']': 106, '\\x94': 107, '^': 108, '\\x91': 109, 'è': 110, 'ì': 111, '—': 112})\n"
          ]
        }
      ]
    },
    {
      "cell_type": "markdown",
      "source": [
        "Observation: Here the tokens are the characters and they are mapped to their respective indices."
      ],
      "metadata": {
        "id": "_EmJ1Y6-wAfb"
      }
    },
    {
      "cell_type": "code",
      "source": [
        "print(text_field.vocab.itos)"
      ],
      "metadata": {
        "colab": {
          "base_uri": "https://localhost:8080/"
        },
        "id": "JgwRi0gkwKs9",
        "outputId": "9b8590ee-5c26-43c2-d585-fb921bd0b210"
      },
      "execution_count": 15,
      "outputs": [
        {
          "output_type": "stream",
          "name": "stdout",
          "text": [
            "['<unk>', '<pad>', ' ', 'e', 'o', 't', 'a', 'n', 'r', 'i', 's', 'l', 'u', '0', 'h', 'd', '.', 'm', 'c', 'y', 'w', 'p', 'g', '1', 'f', '2', 'b', '8', 'T', 'k', '5', 'E', 'v', 'S', 'C', 'O', 'I', '4', '7', 'x', 'N', 'A', '3', '6', 'R', '!', ',', 'P', '9', 'U', 'W', 'M', 'L', 'H', 'B', 'D', 'F', 'G', 'Y', \"'\", '/', '?', '£', '-', '&', 'X', ':', 'z', 'V', '*', 'j', 'K', ')', '+', 'J', ';', '(', 'q', 'Q', '\"', '#', '>', '@', '=', 'Z', 'ü', '<', '$', 'Ü', '\\x92', '|', '_', '%', '‘', '¡', '…', '’', 'ú', '“', '–', '\\\\', '~', '\\x96', '\\t', '\\n', '[', ']', '\\x94', '^', '\\x91', 'è', 'ì', '—']\n"
          ]
        }
      ]
    },
    {
      "cell_type": "markdown",
      "source": [
        "Observation: its similar to the stoi, but its in the list format, where the index of each characters maps the character in the list."
      ],
      "metadata": {
        "id": "QUXX581pwIf2"
      }
    },
    {
      "cell_type": "markdown",
      "metadata": {
        "id": "TC8WVE8Ua90u"
      },
      "source": [
        "### Part (g) [1 pt]\n",
        "\n",
        "The tokens `<unk>` and `<pad>` were not in our SMS text messages.\n",
        "What do these two values represent?"
      ]
    },
    {
      "cell_type": "markdown",
      "source": [
        "https://pytorch.org/text/stable/vocab.html\n",
        "\n",
        "1. Unk is a intialization function, where if a character / word which are out of vocabulary occurs, it initializes zero vector to that character / word.\n",
        "\n",
        "2. Pad represents the token appended to make the length of messages throughout the batches same."
      ],
      "metadata": {
        "id": "PJd3wNIfw6LW"
      }
    },
    {
      "cell_type": "markdown",
      "metadata": {
        "id": "Ff5CNk7Qa90y"
      },
      "source": [
        "### Part (h) [1 pt]\n",
        "\n",
        "Since text sequences are of variable length, `torchtext` provides a `BucketIterator` data loader,\n",
        "which batches similar length sequences together. The iterator also provides functionalities to\n",
        "pad sequences automatically.\n",
        "\n",
        "Take a look at 10 batches in `train_iter`. What is the maximum length of the\n",
        "input sequence in each batch? How many `<pad>` tokens are used in each of the 10\n",
        "batches?"
      ]
    },
    {
      "cell_type": "code",
      "metadata": {
        "id": "V8N8qLWOa90y"
      },
      "source": [
        "train_iter = torchtext.legacy.data.BucketIterator(train,\n",
        "                                           batch_size=32,\n",
        "                                           sort_key=lambda x: len(x.sms), # to minimize padding\n",
        "                                           sort_within_batch=True,        # sort within each batch\n",
        "                                           repeat=False)                  # repeat the iterator for many epochs"
      ],
      "execution_count": 16,
      "outputs": []
    },
    {
      "cell_type": "code",
      "metadata": {
        "id": "Qwz-rOaha902",
        "colab": {
          "base_uri": "https://localhost:8080/",
          "height": 363
        },
        "outputId": "b9cce8a8-37c1-4764-ee1d-18aa70d15c76"
      },
      "source": [
        "max_length = []\n",
        "pad_tokens = []\n",
        "batches = list(range(11))[1:]\n",
        "for i, batch in enumerate (train_iter):\n",
        "  # print(f\"For batch: {i+1}\")\n",
        "  max_length.append(int(max(batch.sms[1])))\n",
        "  pad_tokens.append(int(sum(max(batch.sms[1])-batch.sms[1])))\n",
        "  if i == 9:\n",
        "    break\n",
        "d = {'Batches':batches,'Max_length':max_length,'Pad_tokens':pad_tokens}\n",
        "pd.DataFrame(d)\n"
      ],
      "execution_count": 21,
      "outputs": [
        {
          "output_type": "execute_result",
          "data": {
            "text/plain": [
              "   Batches  Max_length  Pad_tokens\n",
              "0        1          44          24\n",
              "1        2          71          32\n",
              "2        3          46          35\n",
              "3        4          81          30\n",
              "4        5         155           0\n",
              "5        6         162          22\n",
              "6        7         135          41\n",
              "7        8         132          60\n",
              "8        9         159          25\n",
              "9       10          69          37"
            ],
            "text/html": [
              "\n",
              "  <div id=\"df-aa6506fb-1bb7-44fa-b28c-411dec1b539e\">\n",
              "    <div class=\"colab-df-container\">\n",
              "      <div>\n",
              "<style scoped>\n",
              "    .dataframe tbody tr th:only-of-type {\n",
              "        vertical-align: middle;\n",
              "    }\n",
              "\n",
              "    .dataframe tbody tr th {\n",
              "        vertical-align: top;\n",
              "    }\n",
              "\n",
              "    .dataframe thead th {\n",
              "        text-align: right;\n",
              "    }\n",
              "</style>\n",
              "<table border=\"1\" class=\"dataframe\">\n",
              "  <thead>\n",
              "    <tr style=\"text-align: right;\">\n",
              "      <th></th>\n",
              "      <th>Batches</th>\n",
              "      <th>Max_length</th>\n",
              "      <th>Pad_tokens</th>\n",
              "    </tr>\n",
              "  </thead>\n",
              "  <tbody>\n",
              "    <tr>\n",
              "      <th>0</th>\n",
              "      <td>1</td>\n",
              "      <td>44</td>\n",
              "      <td>24</td>\n",
              "    </tr>\n",
              "    <tr>\n",
              "      <th>1</th>\n",
              "      <td>2</td>\n",
              "      <td>71</td>\n",
              "      <td>32</td>\n",
              "    </tr>\n",
              "    <tr>\n",
              "      <th>2</th>\n",
              "      <td>3</td>\n",
              "      <td>46</td>\n",
              "      <td>35</td>\n",
              "    </tr>\n",
              "    <tr>\n",
              "      <th>3</th>\n",
              "      <td>4</td>\n",
              "      <td>81</td>\n",
              "      <td>30</td>\n",
              "    </tr>\n",
              "    <tr>\n",
              "      <th>4</th>\n",
              "      <td>5</td>\n",
              "      <td>155</td>\n",
              "      <td>0</td>\n",
              "    </tr>\n",
              "    <tr>\n",
              "      <th>5</th>\n",
              "      <td>6</td>\n",
              "      <td>162</td>\n",
              "      <td>22</td>\n",
              "    </tr>\n",
              "    <tr>\n",
              "      <th>6</th>\n",
              "      <td>7</td>\n",
              "      <td>135</td>\n",
              "      <td>41</td>\n",
              "    </tr>\n",
              "    <tr>\n",
              "      <th>7</th>\n",
              "      <td>8</td>\n",
              "      <td>132</td>\n",
              "      <td>60</td>\n",
              "    </tr>\n",
              "    <tr>\n",
              "      <th>8</th>\n",
              "      <td>9</td>\n",
              "      <td>159</td>\n",
              "      <td>25</td>\n",
              "    </tr>\n",
              "    <tr>\n",
              "      <th>9</th>\n",
              "      <td>10</td>\n",
              "      <td>69</td>\n",
              "      <td>37</td>\n",
              "    </tr>\n",
              "  </tbody>\n",
              "</table>\n",
              "</div>\n",
              "      <button class=\"colab-df-convert\" onclick=\"convertToInteractive('df-aa6506fb-1bb7-44fa-b28c-411dec1b539e')\"\n",
              "              title=\"Convert this dataframe to an interactive table.\"\n",
              "              style=\"display:none;\">\n",
              "        \n",
              "  <svg xmlns=\"http://www.w3.org/2000/svg\" height=\"24px\"viewBox=\"0 0 24 24\"\n",
              "       width=\"24px\">\n",
              "    <path d=\"M0 0h24v24H0V0z\" fill=\"none\"/>\n",
              "    <path d=\"M18.56 5.44l.94 2.06.94-2.06 2.06-.94-2.06-.94-.94-2.06-.94 2.06-2.06.94zm-11 1L8.5 8.5l.94-2.06 2.06-.94-2.06-.94L8.5 2.5l-.94 2.06-2.06.94zm10 10l.94 2.06.94-2.06 2.06-.94-2.06-.94-.94-2.06-.94 2.06-2.06.94z\"/><path d=\"M17.41 7.96l-1.37-1.37c-.4-.4-.92-.59-1.43-.59-.52 0-1.04.2-1.43.59L10.3 9.45l-7.72 7.72c-.78.78-.78 2.05 0 2.83L4 21.41c.39.39.9.59 1.41.59.51 0 1.02-.2 1.41-.59l7.78-7.78 2.81-2.81c.8-.78.8-2.07 0-2.86zM5.41 20L4 18.59l7.72-7.72 1.47 1.35L5.41 20z\"/>\n",
              "  </svg>\n",
              "      </button>\n",
              "      \n",
              "  <style>\n",
              "    .colab-df-container {\n",
              "      display:flex;\n",
              "      flex-wrap:wrap;\n",
              "      gap: 12px;\n",
              "    }\n",
              "\n",
              "    .colab-df-convert {\n",
              "      background-color: #E8F0FE;\n",
              "      border: none;\n",
              "      border-radius: 50%;\n",
              "      cursor: pointer;\n",
              "      display: none;\n",
              "      fill: #1967D2;\n",
              "      height: 32px;\n",
              "      padding: 0 0 0 0;\n",
              "      width: 32px;\n",
              "    }\n",
              "\n",
              "    .colab-df-convert:hover {\n",
              "      background-color: #E2EBFA;\n",
              "      box-shadow: 0px 1px 2px rgba(60, 64, 67, 0.3), 0px 1px 3px 1px rgba(60, 64, 67, 0.15);\n",
              "      fill: #174EA6;\n",
              "    }\n",
              "\n",
              "    [theme=dark] .colab-df-convert {\n",
              "      background-color: #3B4455;\n",
              "      fill: #D2E3FC;\n",
              "    }\n",
              "\n",
              "    [theme=dark] .colab-df-convert:hover {\n",
              "      background-color: #434B5C;\n",
              "      box-shadow: 0px 1px 3px 1px rgba(0, 0, 0, 0.15);\n",
              "      filter: drop-shadow(0px 1px 2px rgba(0, 0, 0, 0.3));\n",
              "      fill: #FFFFFF;\n",
              "    }\n",
              "  </style>\n",
              "\n",
              "      <script>\n",
              "        const buttonEl =\n",
              "          document.querySelector('#df-aa6506fb-1bb7-44fa-b28c-411dec1b539e button.colab-df-convert');\n",
              "        buttonEl.style.display =\n",
              "          google.colab.kernel.accessAllowed ? 'block' : 'none';\n",
              "\n",
              "        async function convertToInteractive(key) {\n",
              "          const element = document.querySelector('#df-aa6506fb-1bb7-44fa-b28c-411dec1b539e');\n",
              "          const dataTable =\n",
              "            await google.colab.kernel.invokeFunction('convertToInteractive',\n",
              "                                                     [key], {});\n",
              "          if (!dataTable) return;\n",
              "\n",
              "          const docLinkHtml = 'Like what you see? Visit the ' +\n",
              "            '<a target=\"_blank\" href=https://colab.research.google.com/notebooks/data_table.ipynb>data table notebook</a>'\n",
              "            + ' to learn more about interactive tables.';\n",
              "          element.innerHTML = '';\n",
              "          dataTable['output_type'] = 'display_data';\n",
              "          await google.colab.output.renderOutput(dataTable, element);\n",
              "          const docLink = document.createElement('div');\n",
              "          docLink.innerHTML = docLinkHtml;\n",
              "          element.appendChild(docLink);\n",
              "        }\n",
              "      </script>\n",
              "    </div>\n",
              "  </div>\n",
              "  "
            ]
          },
          "metadata": {},
          "execution_count": 21
        }
      ]
    },
    {
      "cell_type": "code",
      "source": [
        "batch.sms[1]"
      ],
      "metadata": {
        "colab": {
          "base_uri": "https://localhost:8080/"
        },
        "id": "HtTnbRjaSQLZ",
        "outputId": "a300a093-244b-400f-81c1-add2afbd4c52"
      },
      "execution_count": 22,
      "outputs": [
        {
          "output_type": "execute_result",
          "data": {
            "text/plain": [
              "tensor([69, 69, 69, 69, 69, 69, 69, 69, 69, 69, 68, 68, 68, 68, 68, 68, 68, 68,\n",
              "        68, 68, 68, 67, 67, 67, 67, 67, 67, 67, 66, 66, 66, 66])"
            ]
          },
          "metadata": {},
          "execution_count": 22
        }
      ]
    },
    {
      "cell_type": "code",
      "source": [
        "print(batch.sms[0][1])"
      ],
      "metadata": {
        "colab": {
          "base_uri": "https://localhost:8080/"
        },
        "id": "oQlSY7TfNY9_",
        "outputId": "1eb7c763-f84c-494a-a259-2c5f996dccc9"
      },
      "execution_count": 19,
      "outputs": [
        {
          "output_type": "stream",
          "name": "stdout",
          "text": [
            "tensor([58,  4, 12,  2, 14,  6, 32,  3,  2, 26,  3,  3,  7,  2, 10,  3, 11,  3,\n",
            "        18,  5,  3, 15,  2,  5,  4,  2, 10,  5,  6, 19,  2,  9,  7,  2, 23,  2,\n",
            "         4, 24,  2, 25, 30, 13,  2,  5,  4, 21,  2, 54,  8,  9,  5,  9, 10, 14,\n",
            "         2, 14,  4,  5,  3, 11, 10,  2, 63,  2, 56, 35, 44,  2, 40, 35, 28, 53,\n",
            "        36, 40, 57, 45,  2, 53,  4, 11,  9, 15,  6, 19,  2, 50,  4,  8,  5, 14,\n",
            "         2, 62, 42, 30, 13, 45,  2, 28,  4,  2, 34, 11,  6,  9, 17, 46,  2, 34,\n",
            "         6, 11, 11,  2, 52,  4,  7, 15,  4,  7,  2, 13, 25, 13, 38, 25, 13, 43,\n",
            "        48, 37, 13, 13, 16,  2, 54, 39,  2, 30, 25, 43, 46,  2, 33, 50, 38, 42,\n",
            "        33, 33])\n"
          ]
        }
      ]
    },
    {
      "cell_type": "markdown",
      "source": [
        "Observation: No pad tokens added"
      ],
      "metadata": {
        "id": "9nPBas4JSjoY"
      }
    },
    {
      "cell_type": "code",
      "source": [
        "print(batch.sms[0][11])"
      ],
      "metadata": {
        "colab": {
          "base_uri": "https://localhost:8080/"
        },
        "id": "S8iL0DpzNkSB",
        "outputId": "eaea9a2b-8714-49c1-d5c7-c009261e5607"
      },
      "execution_count": 23,
      "outputs": [
        {
          "output_type": "stream",
          "name": "stdout",
          "text": [
            "tensor([35,  8,  2,  9,  2, 22,  4,  2, 14,  4, 17,  3,  2, 24,  9,  8, 10,  5,\n",
            "         2, 11,  6,  8,  2, 85,  2, 20,  6,  9,  5,  2, 37,  2, 17,  3,  2, 11,\n",
            "         4,  8, 16, 16,  2, 36,  2, 21, 12,  5,  2, 15,  4, 20,  7,  2, 17, 19,\n",
            "         2, 10,  5, 12, 24, 24,  2, 24,  9,  8, 10,  5, 16, 16,  1])\n"
          ]
        }
      ]
    },
    {
      "cell_type": "markdown",
      "source": [
        "Observation: Pad token of 1 is added at the end to match the dimension"
      ],
      "metadata": {
        "id": "aPPz9KN7Sn0N"
      }
    },
    {
      "cell_type": "code",
      "source": [
        "print(batch.sms[0][25])"
      ],
      "metadata": {
        "colab": {
          "base_uri": "https://localhost:8080/"
        },
        "id": "wQk4GCKtOZsU",
        "outputId": "04f11c8e-77cc-4506-ba1d-1ba72ac70aee"
      },
      "execution_count": 24,
      "outputs": [
        {
          "output_type": "stream",
          "name": "stdout",
          "text": [
            "tensor([40,  3,  3, 15,  2,  6,  2, 18,  4, 24, 24,  3,  3,  2,  8, 12,  7,  2,\n",
            "         5,  4, 17,  4, 61, 34,  6,  7, 59,  5,  2, 26,  3, 11,  9,  3, 32,  3,\n",
            "         2,  9,  5, 59, 10,  2,  5, 14,  6,  5,  2,  5,  9, 17,  3,  2,  4, 24,\n",
            "         2, 20,  3,  3, 29,  2,  6, 11,  8,  3,  6, 15, 19,  1,  1])\n"
          ]
        }
      ]
    },
    {
      "cell_type": "markdown",
      "source": [
        "Observation: pad token 1 has been added to the last two spaces to match the missing values."
      ],
      "metadata": {
        "id": "bTkciFtSRvU4"
      }
    },
    {
      "cell_type": "markdown",
      "metadata": {
        "id": "y7HnqP6_a904"
      },
      "source": [
        "## Part 2. Model Building [5 pt]\n",
        "\n",
        "Build a recurrent neural network model, using an architecture of your choosing. \n",
        "Use the one-hot embedding of each character as input to your recurrent network.\n",
        "Use one or more fully-connected layers to make the prediction based on your\n",
        "recurrent network output.\n",
        "\n",
        "Instead of using the RNN output value for the final token, another often used\n",
        "strategy is to max-pool over the entire output array. That is, instead of calling\n",
        "something like:\n",
        "\n",
        "```\n",
        "out, _ = self.rnn(x)\n",
        "self.fc(out[:, -1, :])\n",
        "```\n",
        "\n",
        "where `self.rnn` is an `nn.RNN`, `nn.GRU`, or `nn.LSTM` module, and `self.fc` is a \n",
        "fully-connected \n",
        "layer, we use:\n",
        "\n",
        "```\n",
        "out, _ = self.rnn(x)\n",
        "self.fc(torch.max(out, dim=1)[0])\n",
        "```\n",
        "\n",
        "This works reasonably in practice. An even better alternative is to concatenate the\n",
        "max-pooling and average-pooling of the RNN outputs:\n",
        "\n",
        "```\n",
        "out, _ = self.rnn(x)\n",
        "out = torch.cat([torch.max(out, dim=1)[0], \n",
        "                 torch.mean(out, dim=1)], dim=1)\n",
        "self.fc(out)\n",
        "```\n",
        "\n",
        "We encourage you to try out all these options. The way you pool the RNN outputs\n",
        "is one of the \"hyperparameters\" that you can choose to tune later on."
      ]
    },
    {
      "cell_type": "code",
      "metadata": {
        "id": "jHl1p_Wwa905",
        "colab": {
          "base_uri": "https://localhost:8080/"
        },
        "outputId": "c0f40967-10d2-416d-a9b7-bbcc2ead417d"
      },
      "source": [
        "# You might find this code helpful for obtaining\n",
        "# PyTorch one-hot vectors.\n",
        "\n",
        "ident = torch.eye(10)\n",
        "print(ident[0]) # one-hot vector\n",
        "print(ident[1]) # one-hot vector\n",
        "x = torch.tensor([[1, 2], [3, 4]])\n",
        "print(ident[x]) # one-hot vectors"
      ],
      "execution_count": 25,
      "outputs": [
        {
          "output_type": "stream",
          "name": "stdout",
          "text": [
            "tensor([1., 0., 0., 0., 0., 0., 0., 0., 0., 0.])\n",
            "tensor([0., 1., 0., 0., 0., 0., 0., 0., 0., 0.])\n",
            "tensor([[[0., 1., 0., 0., 0., 0., 0., 0., 0., 0.],\n",
            "         [0., 0., 1., 0., 0., 0., 0., 0., 0., 0.]],\n",
            "\n",
            "        [[0., 0., 0., 1., 0., 0., 0., 0., 0., 0.],\n",
            "         [0., 0., 0., 0., 1., 0., 0., 0., 0., 0.]]])\n"
          ]
        }
      ]
    },
    {
      "cell_type": "code",
      "metadata": {
        "id": "4LTQ7zFka909"
      },
      "source": [
        "class sd_RNN(nn.Module):\n",
        "    def __init__(self, input_size, hidden_size, num_classes, pooling = False, pool_type = 1):\n",
        "        super(sd_RNN, self).__init__()\n",
        "        self.name = 'sd_RNN'\n",
        "        self.emb = torch.eye(input_size)\n",
        "        self.hidden_size = hidden_size\n",
        "        self.pooling = pooling\n",
        "        self.pool_type = pool_type\n",
        "        self.rnn = nn.RNN(input_size, hidden_size, batch_first=True)\n",
        "        self.fc = nn.Linear(hidden_size, num_classes)\n",
        "        self.fc2 = nn.Linear(hidden_size*2, num_classes)\n",
        "    \n",
        "    def forward(self, x):\n",
        "        \n",
        "        x = self.emb[x]\n",
        "        # print(\"first step in network done\")\n",
        "        #h0 = torch.zeros(1, x.size(0), self.hidden_size)\n",
        "        out, _ = self.rnn(x)\n",
        "        # print(\"got out\")\n",
        "\n",
        "        if self.pooling == False:\n",
        "          # print(\"insdie falst\")\n",
        "          out = self.fc(out[:, -1, :])\n",
        "          return out\n",
        "        else:\n",
        "          pass\n",
        "        if self.pooling == True:\n",
        "          if self.pool_type ==1:\n",
        "            # print(\"inside first loop\")\n",
        "            out = self.fc(torch.max(out, dim=1)[0])\n",
        "            return out\n",
        "          elif self.pool_type ==2:\n",
        "            # print(\"inside 2nd loop\")\n",
        "            out = torch.cat([torch.max(out, dim=1)[0], \n",
        "                            torch.mean(out, dim=1)], dim=1)\n",
        "            out = self.fc2(out)\n",
        "            return out"
      ],
      "execution_count": 26,
      "outputs": []
    },
    {
      "cell_type": "code",
      "source": [
        "model = sd_RNN(50, 50, 2,pooling=True,pool_type=2)"
      ],
      "metadata": {
        "id": "Q-A31V9vUXGO"
      },
      "execution_count": 27,
      "outputs": []
    },
    {
      "cell_type": "markdown",
      "metadata": {
        "id": "vKIYPl_Ba90_"
      },
      "source": [
        "## Part 3. Training [8 pt]\n",
        "\n",
        "### Part (a) [2 pt]\n",
        "\n",
        "Complete the `get_accuracy` function, which will compute the\n",
        "accuracy (rate) of your model across a dataset (e.g. validation set).\n",
        "You may modify `torchtext.data.BucketIterator` to make your computation\n",
        "faster."
      ]
    },
    {
      "cell_type": "code",
      "metadata": {
        "id": "pvNfhGD6a91A"
      },
      "source": [
        "def get_accuracy(model, data_loader):\n",
        "    \"\"\" Compute the accuracy of the `model` across a dataset `data`\n",
        "    \n",
        "    Example usage:\n",
        "    \n",
        "    >>> model = MyRNN() # to be defined\n",
        "    >>> get_accuracy(model, valid) # the variable `valid` is from above\n",
        "    \"\"\"\n",
        "\n",
        "    correct, total = 0, 0\n",
        "    for data, labels in data_loader:\n",
        "        output = model(data[0])\n",
        "        pred = output.max(1, keepdim=True)[1]\n",
        "        correct += pred.eq(labels.view_as(pred)).sum().item()\n",
        "        total += labels.shape[0]\n",
        "    return correct / total"
      ],
      "execution_count": 28,
      "outputs": []
    },
    {
      "cell_type": "markdown",
      "metadata": {
        "id": "TlxlcAC1a91C"
      },
      "source": [
        "### Part (b) [2 pt]\n",
        "\n",
        "Train your model. Plot the training curve of your final model. \n",
        "Your training curve should have the training/validation loss and\n",
        "accuracy plotted periodically.\n",
        "\n",
        "Note: Not all of your batches will have the same batch size.\n",
        "In particular, if your training set does not divide evenly by\n",
        "your batch size, there will be a batch that is smaller than\n",
        "the rest. "
      ]
    },
    {
      "cell_type": "code",
      "source": [
        "def get_model_name(name, batch_size, learning_rate, epoch,hidden,output):\n",
        "    path = \"model_{0}_bs{1}_lr{2}_epoch{3}_hidden{4}_out{5}\".format(name,\n",
        "                                                   batch_size,\n",
        "                                                   learning_rate,\n",
        "                                                   epoch,\n",
        "                                                   hidden,\n",
        "                                                   output)\n",
        "    return path\n",
        "\n",
        "def train_rnn_network(model, train, valid, hidden, output, num_epochs=5,learning_rate=1e-5, batch_size = 32, plot=True):\n",
        "    criterion = nn.CrossEntropyLoss()\n",
        "    optimizer = torch.optim.Adam(model.parameters(), lr=learning_rate)\n",
        "    losses, train_acc, valid_acc = [], [], []\n",
        "    epochs = []\n",
        "    train_loader = torchtext.legacy.data.BucketIterator(train,\n",
        "                                                        batch_size=batch_size,\n",
        "                                                        sort_key=lambda x: len(x.sms), # to minimize padding\n",
        "                                                        sort_within_batch=True,        # sort within each batch\n",
        "                                                        repeat=False)                  # repeat the iterator for many epochs\n",
        "    valid_loader = torchtext.legacy.data.BucketIterator(valid,\n",
        "                                                        batch_size=batch_size,\n",
        "                                                        sort_key=lambda x: len(x.sms), # to minimize padding\n",
        "                                                        sort_within_batch=True,        # sort within each batch\n",
        "                                                        repeat=False)                  # repeat the iterator for many epochs\n",
        "    for epoch in range(num_epochs):\n",
        "        # print(\"for epoch: \",epoch)\n",
        "        batch=1\n",
        "        for data,labels in train_loader:\n",
        "            # print(\"batch: \",batch)\n",
        "            batch += 1\n",
        "            \n",
        "            # print(\"zero gradient\")\n",
        "            pred = model(data[0])\n",
        "            # print(\"model generated\")\n",
        "            loss = criterion(pred, labels)\n",
        "            # print(\"loss calculated\")\n",
        "            loss.backward()\n",
        "            optimizer.step()\n",
        "            optimizer.zero_grad()\n",
        "        losses.append(float(loss))\n",
        "\n",
        "        epochs.append(epoch)\n",
        "        train_acc.append(get_accuracy(model, train_loader))\n",
        "        valid_acc.append(get_accuracy(model, valid_loader))\n",
        "        print(\"Epoch %d; Loss %f; Train Acc %f; Val Acc %f\" % (\n",
        "              epoch+1, loss, train_acc[-1], valid_acc[-1]))\n",
        "        model_path = get_model_name(model.name, batch_size, learning_rate, epoch, hidden, output)\n",
        "        torch.save(model.state_dict(), model_path)\n",
        "    # plotting\n",
        "    if plot:\n",
        "      plt.title(\"Training Curve\")\n",
        "      plt.plot(losses,'rs-', label=\"Train\", linewidth=1,zorder=4)\n",
        "      plt.xlabel(\"Epoch\")\n",
        "      plt.ylabel(\"Loss\")\n",
        "      plt.grid(alpha=0.5, color='k', linestyle='--')\n",
        "      plt.show()\n",
        "\n",
        "      plt.title(\"Training Curve\")\n",
        "      plt.plot(epochs, train_acc,'bo-',label=\"Train\",linewidth=1,zorder=4)\n",
        "      plt.plot(epochs, valid_acc,'gs-',label=\"Validation\",linewidth=1,zorder=4)\n",
        "      plt.xlabel(\"Epoch\")\n",
        "      plt.ylabel(\"Accuracy\")\n",
        "      plt.legend(loc='best')\n",
        "      plt.grid(alpha=0.5, color='k', linestyle='--')\n",
        "      plt.show()"
      ],
      "metadata": {
        "id": "_f-6ogO1QD-5"
      },
      "execution_count": 29,
      "outputs": []
    },
    {
      "cell_type": "code",
      "source": [
        "test_model = sd_RNN(input_size = len(text_field.vocab),hidden_size = 10,num_classes=2)\n",
        "train_rnn_network(test_model,train,valid,10,1)"
      ],
      "metadata": {
        "colab": {
          "base_uri": "https://localhost:8080/",
          "height": 662
        },
        "id": "jMItoG-RRjPE",
        "outputId": "1b0b0e66-a1ae-472b-a532-697bfe338181"
      },
      "execution_count": 30,
      "outputs": [
        {
          "output_type": "stream",
          "name": "stdout",
          "text": [
            "Epoch 1; Loss 0.527940; Train Acc 0.516747; Val Acc 0.129148\n",
            "Epoch 2; Loss 0.510600; Train Acc 0.516747; Val Acc 0.129148\n",
            "Epoch 3; Loss 0.520292; Train Acc 0.516747; Val Acc 0.129148\n",
            "Epoch 4; Loss 0.900585; Train Acc 0.516747; Val Acc 0.129148\n",
            "Epoch 5; Loss 0.975888; Train Acc 0.516747; Val Acc 0.129148\n"
          ]
        },
        {
          "output_type": "display_data",
          "data": {
            "text/plain": [
              "<Figure size 432x288 with 1 Axes>"
            ],
            "image/png": "[encoded data removed]"
          },
          "metadata": {
            "needs_background": "light"
          }
        },
        {
          "output_type": "display_data",
          "data": {
            "text/plain": [
              "<Figure size 432x288 with 1 Axes>"
            ],
            "image/png": "[encoded data removed]"
          },
          "metadata": {
            "needs_background": "light"
          }
        }
      ]
    },
    {
      "cell_type": "markdown",
      "source": [
        "Observation: By checking with the default parameters kept, we can see that model has not trained properly. Therefore by hyper-parameter tuning we will train the model."
      ],
      "metadata": {
        "id": "QJJZ_NnfgBFo"
      }
    },
    {
      "cell_type": "markdown",
      "metadata": {
        "id": "fE3eRkDAa91F"
      },
      "source": [
        "### Part (c) [2 pt]\n",
        "\n",
        "Choose at least 4 hyperparameters to tune. Explain how you tuned the hyperparameters.\n",
        "You don't need to include your training curve for every model you trained.\n",
        "Instead, explain what hyperparemters you tuned, what the best validation accuracy was,\n",
        "and the reasoning behind the hyperparameter decisions you made.\n",
        "\n",
        "For this assignment, you should tune more than just your learning rate and epoch. \n",
        "Choose at least 2 hyperparameters that are unrelated to the optimizer."
      ]
    },
    {
      "cell_type": "markdown",
      "source": [
        "Hyper-parameters to tune: \n",
        "1. Learning Rate\n",
        "2. Epoch\n",
        "3. Batch-size\n",
        "4. Output pooling of RNN layer\n",
        "5. Hidden layer size"
      ],
      "metadata": {
        "id": "po4SJV5bgs6j"
      }
    },
    {
      "cell_type": "markdown",
      "source": [
        "Initially lets try to find the best combination of epochs and learning rate"
      ],
      "metadata": {
        "id": "AdaWuj88lCHm"
      }
    },
    {
      "cell_type": "code",
      "metadata": {
        "id": "A2GEWfDca91G",
        "colab": {
          "base_uri": "https://localhost:8080/",
          "height": 1000
        },
        "outputId": "6f9d7a80-ee13-4745-9534-827f5afad9a4"
      },
      "source": [
        "# Increasing the epochs and increasing the learning rate as the previous try, it can be seen that the learning was not proper it was too slow\n",
        "model_1 = sd_RNN(input_size = len(text_field.vocab),hidden_size = 10,num_classes=2)\n",
        "train_rnn_network(model_1,train,valid,10,1,num_epochs=30,learning_rate=0.0001)"
      ],
      "execution_count": 278,
      "outputs": [
        {
          "output_type": "stream",
          "name": "stdout",
          "text": [
            "Epoch 1; Loss 0.755194; Train Acc 0.521164; Val Acc 0.145291\n",
            "Epoch 2; Loss 0.719144; Train Acc 0.529697; Val Acc 0.191031\n",
            "Epoch 3; Loss 0.633012; Train Acc 0.575372; Val Acc 0.303139\n",
            "Epoch 4; Loss 0.800540; Train Acc 0.626569; Val Acc 0.547085\n",
            "Epoch 5; Loss 0.737002; Train Acc 0.623055; Val Acc 0.639462\n",
            "Epoch 6; Loss 0.673464; Train Acc 0.641626; Val Acc 0.691480\n",
            "Epoch 7; Loss 0.684842; Train Acc 0.644470; Val Acc 0.704036\n",
            "Epoch 8; Loss 0.593768; Train Acc 0.684624; Val Acc 0.740807\n",
            "Epoch 9; Loss 0.668848; Train Acc 0.675924; Val Acc 0.751570\n",
            "Epoch 10; Loss 0.621516; Train Acc 0.694161; Val Acc 0.770404\n",
            "Epoch 11; Loss 0.605461; Train Acc 0.717082; Val Acc 0.804484\n",
            "Epoch 12; Loss 0.529418; Train Acc 0.750711; Val Acc 0.808072\n",
            "Epoch 13; Loss 0.368584; Train Acc 0.812448; Val Acc 0.869058\n",
            "Epoch 14; Loss 0.713489; Train Acc 0.848419; Val Acc 0.901345\n",
            "Epoch 15; Loss 0.182124; Train Acc 0.855780; Val Acc 0.920179\n",
            "Epoch 16; Loss 0.315843; Train Acc 0.857788; Val Acc 0.932735\n",
            "Epoch 17; Loss 0.450614; Train Acc 0.872009; Val Acc 0.928251\n",
            "Epoch 18; Loss 0.132008; Train Acc 0.873515; Val Acc 0.938117\n",
            "Epoch 19; Loss 0.113648; Train Acc 0.877865; Val Acc 0.923767\n",
            "Epoch 20; Loss 0.973120; Train Acc 0.882382; Val Acc 0.930942\n",
            "Epoch 21; Loss 0.270564; Train Acc 0.882215; Val Acc 0.939910\n",
            "Epoch 22; Loss 0.312408; Train Acc 0.888071; Val Acc 0.937220\n",
            "Epoch 23; Loss 0.435362; Train Acc 0.887569; Val Acc 0.939910\n",
            "Epoch 24; Loss 0.182551; Train Acc 0.890246; Val Acc 0.942601\n",
            "Epoch 25; Loss 0.212300; Train Acc 0.889911; Val Acc 0.943498\n",
            "Epoch 26; Loss 0.178188; Train Acc 0.894261; Val Acc 0.915695\n",
            "Epoch 27; Loss 0.171069; Train Acc 0.893759; Val Acc 0.944395\n",
            "Epoch 28; Loss 0.324062; Train Acc 0.896269; Val Acc 0.930045\n",
            "Epoch 29; Loss 0.195353; Train Acc 0.897106; Val Acc 0.939910\n",
            "Epoch 30; Loss 0.153898; Train Acc 0.888573; Val Acc 0.953363\n"
          ]
        },
        {
          "output_type": "display_data",
          "data": {
            "text/plain": [
              "<Figure size 432x288 with 1 Axes>"
            ],
            "image/png": "[encoded data removed]"
          },
          "metadata": {
            "needs_background": "light"
          }
        },
        {
          "output_type": "display_data",
          "data": {
            "text/plain": [
              "<Figure size 432x288 with 1 Axes>"
            ],
            "image/png": "[encoded data removed]"
          },
          "metadata": {
            "needs_background": "light"
          }
        }
      ]
    },
    {
      "cell_type": "code",
      "source": [
        "# increasing the epochs and increasing the learning rate definitely improved accuracy, lets try changing the learning rate once more\n",
        "model_2 = sd_RNN(input_size = len(text_field.vocab),hidden_size = 10,num_classes=2)\n",
        "train_rnn_network(model_2,train,valid,10,1,num_epochs=30,learning_rate=0.001)"
      ],
      "metadata": {
        "colab": {
          "base_uri": "https://localhost:8080/",
          "height": 1000
        },
        "id": "gd9FeQFEwZ6K",
        "outputId": "24f72ecd-81c5-4cc4-bdd4-c7949a0e84f1"
      },
      "execution_count": 279,
      "outputs": [
        {
          "output_type": "stream",
          "name": "stdout",
          "text": [
            "Epoch 1; Loss 0.714992; Train Acc 0.672411; Val Acc 0.514798\n",
            "Epoch 2; Loss 0.249051; Train Acc 0.884056; Val Acc 0.914798\n",
            "Epoch 3; Loss 0.677056; Train Acc 0.902125; Val Acc 0.926457\n",
            "Epoch 4; Loss 0.237198; Train Acc 0.913334; Val Acc 0.948879\n",
            "Epoch 5; Loss 0.378835; Train Acc 0.922536; Val Acc 0.939013\n",
            "Epoch 6; Loss 0.202441; Train Acc 0.922871; Val Acc 0.952466\n",
            "Epoch 7; Loss 0.485809; Train Acc 0.852434; Val Acc 0.952466\n",
            "Epoch 8; Loss 0.122204; Train Acc 0.920361; Val Acc 0.967713\n",
            "Epoch 9; Loss 0.550242; Train Acc 0.820144; Val Acc 0.927354\n",
            "Epoch 10; Loss 0.257066; Train Acc 0.854944; Val Acc 0.922870\n",
            "Epoch 11; Loss 0.256733; Train Acc 0.922034; Val Acc 0.953363\n",
            "Epoch 12; Loss 0.135712; Train Acc 0.935754; Val Acc 0.955157\n",
            "Epoch 13; Loss 0.142856; Train Acc 0.913167; Val Acc 0.931839\n",
            "Epoch 14; Loss 0.454977; Train Acc 0.926384; Val Acc 0.954260\n",
            "Epoch 15; Loss 0.099496; Train Acc 0.933411; Val Acc 0.950673\n",
            "Epoch 16; Loss 0.132064; Train Acc 0.939267; Val Acc 0.944395\n",
            "Epoch 17; Loss 0.244135; Train Acc 0.942948; Val Acc 0.952466\n",
            "Epoch 18; Loss 0.154104; Train Acc 0.948469; Val Acc 0.959641\n",
            "Epoch 19; Loss 0.051774; Train Acc 0.943617; Val Acc 0.949776\n",
            "Epoch 20; Loss 0.285829; Train Acc 0.950310; Val Acc 0.960538\n",
            "Epoch 21; Loss 0.020004; Train Acc 0.948804; Val Acc 0.956951\n",
            "Epoch 22; Loss 0.257506; Train Acc 0.951481; Val Acc 0.957848\n",
            "Epoch 23; Loss 0.384318; Train Acc 0.936925; Val Acc 0.965919\n",
            "Epoch 24; Loss 0.017523; Train Acc 0.947633; Val Acc 0.952466\n",
            "Epoch 25; Loss 0.054401; Train Acc 0.926217; Val Acc 0.973991\n",
            "Epoch 26; Loss 0.113834; Train Acc 0.954827; Val Acc 0.962332\n",
            "Epoch 27; Loss 0.067423; Train Acc 0.955329; Val Acc 0.961435\n",
            "Epoch 28; Loss 0.376245; Train Acc 0.957336; Val Acc 0.963229\n",
            "Epoch 29; Loss 0.081378; Train Acc 0.936758; Val Acc 0.931839\n",
            "Epoch 30; Loss 0.067396; Train Acc 0.944119; Val Acc 0.962332\n"
          ]
        },
        {
          "output_type": "display_data",
          "data": {
            "text/plain": [
              "<Figure size 432x288 with 1 Axes>"
            ],
            "image/png": "[encoded data removed]"
          },
          "metadata": {
            "needs_background": "light"
          }
        },
        {
          "output_type": "display_data",
          "data": {
            "text/plain": [
              "<Figure size 432x288 with 1 Axes>"
            ],
            "image/png": "[encoded data removed]"
          },
          "metadata": {
            "needs_background": "light"
          }
        }
      ]
    },
    {
      "cell_type": "code",
      "source": [
        "# increasing the hidden size\n",
        "model_3 = sd_RNN(input_size = len(text_field.vocab),hidden_size = 30,num_classes=2)\n",
        "train_rnn_network(model_3,train,valid,30,1,num_epochs=30,learning_rate=0.001)"
      ],
      "metadata": {
        "colab": {
          "base_uri": "https://localhost:8080/",
          "height": 1000
        },
        "id": "5HyODzlfxVzN",
        "outputId": "613e68b4-86ba-47cc-f087-fe741b8d5938"
      },
      "execution_count": 280,
      "outputs": [
        {
          "output_type": "stream",
          "name": "stdout",
          "text": [
            "Epoch 1; Loss 0.378606; Train Acc 0.899448; Val Acc 0.945291\n",
            "Epoch 2; Loss 0.134696; Train Acc 0.928225; Val Acc 0.959641\n",
            "Epoch 3; Loss 0.626035; Train Acc 0.702526; Val Acc 0.722870\n",
            "Epoch 4; Loss 0.869385; Train Acc 0.700519; Val Acc 0.691480\n",
            "Epoch 5; Loss 0.185847; Train Acc 0.873850; Val Acc 0.899552\n",
            "Epoch 6; Loss 0.554838; Train Acc 0.743182; Val Acc 0.835874\n",
            "Epoch 7; Loss 0.364956; Train Acc 0.781161; Val Acc 0.832287\n",
            "Epoch 8; Loss 0.235533; Train Acc 0.816128; Val Acc 0.883408\n",
            "Epoch 9; Loss 0.571941; Train Acc 0.854442; Val Acc 0.922870\n",
            "Epoch 10; Loss 0.414680; Train Acc 0.902627; Val Acc 0.962332\n",
            "Epoch 11; Loss 0.348479; Train Acc 0.907144; Val Acc 0.944395\n",
            "Epoch 12; Loss 0.194607; Train Acc 0.892086; Val Acc 0.916592\n",
            "Epoch 13; Loss 0.295217; Train Acc 0.925883; Val Acc 0.960538\n",
            "Epoch 14; Loss 0.507369; Train Acc 0.927054; Val Acc 0.965919\n",
            "Epoch 15; Loss 0.031921; Train Acc 0.933411; Val Acc 0.956951\n",
            "Epoch 16; Loss 0.196449; Train Acc 0.943617; Val Acc 0.943498\n",
            "Epoch 17; Loss 0.201765; Train Acc 0.944286; Val Acc 0.952466\n",
            "Epoch 18; Loss 0.690115; Train Acc 0.737661; Val Acc 0.575785\n",
            "Epoch 19; Loss 0.153395; Train Acc 0.926384; Val Acc 0.934529\n",
            "Epoch 20; Loss 0.479566; Train Acc 0.930233; Val Acc 0.941704\n",
            "Epoch 21; Loss 0.048514; Train Acc 0.924209; Val Acc 0.963229\n",
            "Epoch 22; Loss 0.281056; Train Acc 0.917684; Val Acc 0.941704\n",
            "Epoch 23; Loss 0.359604; Train Acc 0.919023; Val Acc 0.966816\n",
            "Epoch 24; Loss 0.025197; Train Acc 0.932073; Val Acc 0.959641\n",
            "Epoch 25; Loss 0.339322; Train Acc 0.723273; Val Acc 0.859193\n",
            "Epoch 26; Loss 0.342966; Train Acc 0.753388; Val Acc 0.848430\n",
            "Epoch 27; Loss 0.530235; Train Acc 0.806257; Val Acc 0.759641\n",
            "Epoch 28; Loss 0.325075; Train Acc 0.854944; Val Acc 0.867265\n",
            "Epoch 29; Loss 0.095485; Train Acc 0.836205; Val Acc 0.947085\n",
            "Epoch 30; Loss 0.334467; Train Acc 0.915175; Val Acc 0.906726\n"
          ]
        },
        {
          "output_type": "display_data",
          "data": {
            "text/plain": [
              "<Figure size 432x288 with 1 Axes>"
            ],
            "image/png": "[encoded data removed]"
          },
          "metadata": {
            "needs_background": "light"
          }
        },
        {
          "output_type": "display_data",
          "data": {
            "text/plain": [
              "<Figure size 432x288 with 1 Axes>"
            ],
            "image/png": "[encoded data removed]"
          },
          "metadata": {
            "needs_background": "light"
          }
        }
      ]
    },
    {
      "cell_type": "code",
      "source": [
        "model_4 = sd_RNN(input_size = len(text_field.vocab),hidden_size = 20,num_classes=2)\n",
        "train_rnn_network(model_4,train,valid,20,1,num_epochs=30,learning_rate=0.0001)"
      ],
      "metadata": {
        "colab": {
          "base_uri": "https://localhost:8080/",
          "height": 1000
        },
        "id": "UwwytM10x9ea",
        "outputId": "573f9d4d-9f2d-4062-e7d2-4787c62d7e8b"
      },
      "execution_count": 281,
      "outputs": [
        {
          "output_type": "stream",
          "name": "stdout",
          "text": [
            "Epoch 1; Loss 0.861091; Train Acc 0.514138; Val Acc 0.132735\n",
            "Epoch 2; Loss 0.743529; Train Acc 0.514138; Val Acc 0.132735\n",
            "Epoch 3; Loss 0.641465; Train Acc 0.515978; Val Acc 0.140807\n",
            "Epoch 4; Loss 0.734016; Train Acc 0.654509; Val Acc 0.527354\n",
            "Epoch 5; Loss 0.649792; Train Acc 0.770119; Val Acc 0.848430\n",
            "Epoch 6; Loss 0.406269; Train Acc 0.847917; Val Acc 0.919283\n",
            "Epoch 7; Loss 0.273380; Train Acc 0.856282; Val Acc 0.888789\n",
            "Epoch 8; Loss 0.365182; Train Acc 0.857955; Val Acc 0.934529\n",
            "Epoch 9; Loss 0.263265; Train Acc 0.877363; Val Acc 0.938117\n",
            "Epoch 10; Loss 0.318908; Train Acc 0.896938; Val Acc 0.939910\n",
            "Epoch 11; Loss 0.343047; Train Acc 0.899448; Val Acc 0.904933\n",
            "Epoch 12; Loss 0.159438; Train Acc 0.908315; Val Acc 0.921076\n",
            "Epoch 13; Loss 0.156831; Train Acc 0.907646; Val Acc 0.930045\n",
            "Epoch 14; Loss 0.536290; Train Acc 0.910825; Val Acc 0.913004\n",
            "Epoch 15; Loss 0.175133; Train Acc 0.908984; Val Acc 0.947982\n",
            "Epoch 16; Loss 0.330078; Train Acc 0.918856; Val Acc 0.934529\n",
            "Epoch 17; Loss 0.384109; Train Acc 0.919692; Val Acc 0.945291\n",
            "Epoch 18; Loss 0.100121; Train Acc 0.923038; Val Acc 0.947085\n",
            "Epoch 19; Loss 0.194373; Train Acc 0.909319; Val Acc 0.908520\n",
            "Epoch 20; Loss 0.423545; Train Acc 0.923206; Val Acc 0.944395\n",
            "Epoch 21; Loss 0.069414; Train Acc 0.922871; Val Acc 0.947085\n",
            "Epoch 22; Loss 0.263760; Train Acc 0.925715; Val Acc 0.939013\n",
            "Epoch 23; Loss 0.316441; Train Acc 0.926217; Val Acc 0.942601\n",
            "Epoch 24; Loss 0.101002; Train Acc 0.924209; Val Acc 0.939910\n",
            "Epoch 25; Loss 0.225696; Train Acc 0.925046; Val Acc 0.947085\n",
            "Epoch 26; Loss 0.134956; Train Acc 0.926050; Val Acc 0.948879\n",
            "Epoch 27; Loss 0.119775; Train Acc 0.917183; Val Acc 0.954260\n",
            "Epoch 28; Loss 0.416916; Train Acc 0.922536; Val Acc 0.955157\n",
            "Epoch 29; Loss 0.158664; Train Acc 0.929396; Val Acc 0.920179\n",
            "Epoch 30; Loss 0.175625; Train Acc 0.932909; Val Acc 0.940807\n"
          ]
        },
        {
          "output_type": "display_data",
          "data": {
            "text/plain": [
              "<Figure size 432x288 with 1 Axes>"
            ],
            "image/png": "[encoded data removed]"
          },
          "metadata": {
            "needs_background": "light"
          }
        },
        {
          "output_type": "display_data",
          "data": {
            "text/plain": [
              "<Figure size 432x288 with 1 Axes>"
            ],
            "image/png": "[encoded data removed]"
          },
          "metadata": {
            "needs_background": "light"
          }
        }
      ]
    },
    {
      "cell_type": "code",
      "source": [
        "model_5 = sd_RNN(input_size = len(text_field.vocab),hidden_size = 35,num_classes=2)\n",
        "train_rnn_network(model_5,train,valid,35,1,num_epochs=50,learning_rate=0.0001)"
      ],
      "metadata": {
        "colab": {
          "base_uri": "https://localhost:8080/",
          "height": 1000
        },
        "id": "jmlnJdYiyfaz",
        "outputId": "2016668b-7985-4e27-b95f-86c0fe6075bb"
      },
      "execution_count": 282,
      "outputs": [
        {
          "output_type": "stream",
          "name": "stdout",
          "text": [
            "Epoch 1; Loss 0.747178; Train Acc 0.530032; Val Acc 0.158744\n",
            "Epoch 2; Loss 0.691680; Train Acc 0.646311; Val Acc 0.631390\n",
            "Epoch 3; Loss 0.639263; Train Acc 0.692990; Val Acc 0.706726\n",
            "Epoch 4; Loss 0.727924; Train Acc 0.745190; Val Acc 0.799103\n",
            "Epoch 5; Loss 0.322536; Train Acc 0.874017; Val Acc 0.936323\n",
            "Epoch 6; Loss 0.209488; Train Acc 0.904634; Val Acc 0.937220\n",
            "Epoch 7; Loss 0.392856; Train Acc 0.918521; Val Acc 0.938117\n",
            "Epoch 8; Loss 0.198675; Train Acc 0.898779; Val Acc 0.939910\n",
            "Epoch 9; Loss 0.362678; Train Acc 0.938598; Val Acc 0.929148\n",
            "Epoch 10; Loss 0.202492; Train Acc 0.910658; Val Acc 0.955157\n",
            "Epoch 11; Loss 0.184022; Train Acc 0.929061; Val Acc 0.956054\n",
            "Epoch 12; Loss 0.035674; Train Acc 0.885896; Val Acc 0.895964\n",
            "Epoch 13; Loss 0.053864; Train Acc 0.919859; Val Acc 0.938117\n",
            "Epoch 14; Loss 0.270482; Train Acc 0.934583; Val Acc 0.929148\n",
            "Epoch 15; Loss 0.033014; Train Acc 0.937427; Val Acc 0.957848\n",
            "Epoch 16; Loss 0.142796; Train Acc 0.937427; Val Acc 0.953363\n",
            "Epoch 17; Loss 0.267778; Train Acc 0.939769; Val Acc 0.952466\n",
            "Epoch 18; Loss 0.086972; Train Acc 0.944621; Val Acc 0.952466\n",
            "Epoch 19; Loss 0.087887; Train Acc 0.940940; Val Acc 0.951570\n",
            "Epoch 20; Loss 0.343009; Train Acc 0.942948; Val Acc 0.951570\n",
            "Epoch 21; Loss 0.048736; Train Acc 0.942279; Val Acc 0.949776\n",
            "Epoch 22; Loss 0.131937; Train Acc 0.938096; Val Acc 0.940807\n",
            "Epoch 23; Loss 0.038935; Train Acc 0.943952; Val Acc 0.951570\n",
            "Epoch 24; Loss 0.025671; Train Acc 0.938598; Val Acc 0.940807\n",
            "Epoch 25; Loss 0.164941; Train Acc 0.948804; Val Acc 0.947982\n",
            "Epoch 26; Loss 0.217080; Train Acc 0.944788; Val Acc 0.953363\n",
            "Epoch 27; Loss 0.183786; Train Acc 0.952317; Val Acc 0.945291\n",
            "Epoch 28; Loss 0.467635; Train Acc 0.897440; Val Acc 0.952466\n",
            "Epoch 29; Loss 0.106956; Train Acc 0.946629; Val Acc 0.949776\n",
            "Epoch 30; Loss 0.133595; Train Acc 0.949808; Val Acc 0.952466\n",
            "Epoch 31; Loss 0.512685; Train Acc 0.806927; Val Acc 0.768610\n",
            "Epoch 32; Loss 0.383245; Train Acc 0.915509; Val Acc 0.933632\n",
            "Epoch 33; Loss 0.178316; Train Acc 0.952986; Val Acc 0.944395\n",
            "Epoch 34; Loss 0.034556; Train Acc 0.946963; Val Acc 0.928251\n",
            "Epoch 35; Loss 0.105031; Train Acc 0.952652; Val Acc 0.954260\n",
            "Epoch 36; Loss 0.175985; Train Acc 0.952485; Val Acc 0.956951\n",
            "Epoch 37; Loss 0.153886; Train Acc 0.949975; Val Acc 0.953363\n",
            "Epoch 38; Loss 0.096135; Train Acc 0.956667; Val Acc 0.956951\n",
            "Epoch 39; Loss 0.890262; Train Acc 0.954158; Val Acc 0.956054\n",
            "Epoch 40; Loss 0.413798; Train Acc 0.577045; Val Acc 0.260090\n",
            "Epoch 41; Loss 0.174665; Train Acc 0.892588; Val Acc 0.892377\n",
            "Epoch 42; Loss 0.127409; Train Acc 0.951313; Val Acc 0.939013\n",
            "Epoch 43; Loss 0.115143; Train Acc 0.955496; Val Acc 0.952466\n",
            "Epoch 44; Loss 0.077192; Train Acc 0.952317; Val Acc 0.940807\n",
            "Epoch 45; Loss 0.068637; Train Acc 0.957002; Val Acc 0.956951\n",
            "Epoch 46; Loss 0.160126; Train Acc 0.956165; Val Acc 0.953363\n",
            "Epoch 47; Loss 0.111740; Train Acc 0.958508; Val Acc 0.955157\n",
            "Epoch 48; Loss 0.033568; Train Acc 0.957671; Val Acc 0.953363\n",
            "Epoch 49; Loss 0.358418; Train Acc 0.958508; Val Acc 0.951570\n",
            "Epoch 50; Loss 0.102663; Train Acc 0.958675; Val Acc 0.949776\n"
          ]
        },
        {
          "output_type": "display_data",
          "data": {
            "text/plain": [
              "<Figure size 432x288 with 1 Axes>"
            ],
            "image/png": "[encoded data removed]"
          },
          "metadata": {
            "needs_background": "light"
          }
        },
        {
          "output_type": "display_data",
          "data": {
            "text/plain": [
              "<Figure size 432x288 with 1 Axes>"
            ],
            "image/png": "[encoded data removed]"
          },
          "metadata": {
            "needs_background": "light"
          }
        }
      ]
    },
    {
      "cell_type": "markdown",
      "source": [
        "Observation: Hidden layer size doesnt seem to affect the accuracy too much. So far with the hidden layer size of 10 and learning rate of 0.001 with 30 epochs we were able to get the best training and validation accuracy with less loss in training."
      ],
      "metadata": {
        "id": "-oOMcEQmzcYI"
      }
    },
    {
      "cell_type": "code",
      "source": [
        "# trying maxpool at the output layer\n",
        "model_6 = sd_RNN(input_size = len(text_field.vocab),hidden_size = 10,num_classes=2,pooling=True,pool_type=1)\n",
        "train_rnn_network(model_6,train,valid,10,2,num_epochs=30,learning_rate=0.001)"
      ],
      "metadata": {
        "colab": {
          "base_uri": "https://localhost:8080/",
          "height": 1000
        },
        "id": "IYy-e8tazjOG",
        "outputId": "e61a9372-9d41-4f7e-db91-84b739e0c964"
      },
      "execution_count": 31,
      "outputs": [
        {
          "output_type": "stream",
          "name": "stdout",
          "text": [
            "Epoch 1; Loss 0.526598; Train Acc 0.928679; Val Acc 0.959641\n",
            "Epoch 2; Loss 0.115640; Train Acc 0.941843; Val Acc 0.955157\n",
            "Epoch 3; Loss 0.060693; Train Acc 0.945842; Val Acc 0.960538\n",
            "Epoch 4; Loss 0.138040; Train Acc 0.950508; Val Acc 0.965919\n",
            "Epoch 5; Loss 0.174629; Train Acc 0.960007; Val Acc 0.963229\n",
            "Epoch 6; Loss 0.066492; Train Acc 0.958674; Val Acc 0.968610\n",
            "Epoch 7; Loss 0.018532; Train Acc 0.962673; Val Acc 0.965919\n",
            "Epoch 8; Loss 0.101033; Train Acc 0.966839; Val Acc 0.974888\n",
            "Epoch 9; Loss 0.108501; Train Acc 0.968005; Val Acc 0.974888\n",
            "Epoch 10; Loss 0.015540; Train Acc 0.967505; Val Acc 0.967713\n",
            "Epoch 11; Loss 0.045304; Train Acc 0.970505; Val Acc 0.975785\n",
            "Epoch 12; Loss 0.020268; Train Acc 0.970838; Val Acc 0.976682\n",
            "Epoch 13; Loss 0.179463; Train Acc 0.973338; Val Acc 0.974888\n",
            "Epoch 14; Loss 0.015962; Train Acc 0.971338; Val Acc 0.978475\n",
            "Epoch 15; Loss 0.179166; Train Acc 0.976671; Val Acc 0.970404\n",
            "Epoch 16; Loss 0.023821; Train Acc 0.977837; Val Acc 0.966816\n",
            "Epoch 17; Loss 0.050246; Train Acc 0.976671; Val Acc 0.982063\n",
            "Epoch 18; Loss 0.078454; Train Acc 0.981003; Val Acc 0.976682\n",
            "Epoch 19; Loss 0.058955; Train Acc 0.983003; Val Acc 0.981166\n",
            "Epoch 20; Loss 0.006791; Train Acc 0.984003; Val Acc 0.981166\n",
            "Epoch 21; Loss 0.056293; Train Acc 0.984836; Val Acc 0.979372\n",
            "Epoch 22; Loss 0.019132; Train Acc 0.984336; Val Acc 0.982063\n",
            "Epoch 23; Loss 0.006793; Train Acc 0.987169; Val Acc 0.980269\n",
            "Epoch 24; Loss 0.032597; Train Acc 0.988169; Val Acc 0.977578\n",
            "Epoch 25; Loss 0.003957; Train Acc 0.988335; Val Acc 0.977578\n",
            "Epoch 26; Loss 0.042101; Train Acc 0.989002; Val Acc 0.972197\n",
            "Epoch 27; Loss 0.124440; Train Acc 0.988169; Val Acc 0.979372\n",
            "Epoch 28; Loss 0.023831; Train Acc 0.990002; Val Acc 0.972197\n",
            "Epoch 29; Loss 0.059777; Train Acc 0.989835; Val Acc 0.976682\n",
            "Epoch 30; Loss 0.021336; Train Acc 0.990168; Val Acc 0.973991\n"
          ]
        },
        {
          "output_type": "display_data",
          "data": {
            "text/plain": [
              "<Figure size 432x288 with 1 Axes>"
            ],
            "image/png": "[encoded data removed]"
          },
          "metadata": {
            "needs_background": "light"
          }
        },
        {
          "output_type": "display_data",
          "data": {
            "text/plain": [
              "<Figure size 432x288 with 1 Axes>"
            ],
            "image/png": "[encoded data removed]"
          },
          "metadata": {
            "needs_background": "light"
          }
        }
      ]
    },
    {
      "cell_type": "markdown",
      "source": [
        "Observation: using the maxpool at the end of the network definitely has improved the performance. Checking the last method as average of maxpool and average pool"
      ],
      "metadata": {
        "id": "ap2RoLLJ3ASk"
      }
    },
    {
      "cell_type": "code",
      "source": [
        "model_7 = sd_RNN(input_size = len(text_field.vocab),hidden_size = 10,num_classes=2,pooling=True,pool_type=2)\n",
        "train_rnn_network(model_7,train,valid,10,3,num_epochs=30,learning_rate=0.001)"
      ],
      "metadata": {
        "colab": {
          "base_uri": "https://localhost:8080/",
          "height": 1000
        },
        "id": "UiApgz8D3Kd-",
        "outputId": "ffb4c552-938b-4e15-d664-9f33eeb7c7d1"
      },
      "execution_count": 296,
      "outputs": [
        {
          "output_type": "stream",
          "name": "stdout",
          "text": [
            "Epoch 1; Loss 2.293930; Train Acc 0.523507; Val Acc 0.144395\n",
            "Epoch 2; Loss 1.916088; Train Acc 0.680274; Val Acc 0.779372\n",
            "Epoch 3; Loss 1.821576; Train Acc 0.748369; Val Acc 0.896861\n",
            "Epoch 4; Loss 1.694302; Train Acc 0.816463; Val Acc 0.915695\n",
            "Epoch 5; Loss 1.626235; Train Acc 0.824661; Val Acc 0.930045\n",
            "Epoch 6; Loss 1.572515; Train Acc 0.859796; Val Acc 0.943498\n",
            "Epoch 7; Loss 1.631073; Train Acc 0.866823; Val Acc 0.946188\n",
            "Epoch 8; Loss 1.607509; Train Acc 0.876527; Val Acc 0.948879\n",
            "Epoch 9; Loss 1.503138; Train Acc 0.874854; Val Acc 0.950673\n",
            "Epoch 10; Loss 1.466517; Train Acc 0.894094; Val Acc 0.956054\n",
            "Epoch 11; Loss 1.521617; Train Acc 0.909821; Val Acc 0.961435\n",
            "Epoch 12; Loss 1.572882; Train Acc 0.908483; Val Acc 0.961435\n",
            "Epoch 13; Loss 1.539865; Train Acc 0.908483; Val Acc 0.962332\n",
            "Epoch 14; Loss 1.460387; Train Acc 0.915342; Val Acc 0.964126\n",
            "Epoch 15; Loss 1.552596; Train Acc 0.915509; Val Acc 0.965022\n",
            "Epoch 16; Loss 1.441631; Train Acc 0.915175; Val Acc 0.965022\n",
            "Epoch 17; Loss 1.573334; Train Acc 0.915509; Val Acc 0.965919\n",
            "Epoch 18; Loss 1.400155; Train Acc 0.914840; Val Acc 0.965022\n",
            "Epoch 19; Loss 1.416016; Train Acc 0.914506; Val Acc 0.963229\n",
            "Epoch 20; Loss 1.470117; Train Acc 0.914004; Val Acc 0.965022\n",
            "Epoch 21; Loss 1.527106; Train Acc 0.919358; Val Acc 0.968610\n",
            "Epoch 22; Loss 1.460845; Train Acc 0.923206; Val Acc 0.971300\n",
            "Epoch 23; Loss 1.534474; Train Acc 0.923540; Val Acc 0.969507\n",
            "Epoch 24; Loss 1.509653; Train Acc 0.923206; Val Acc 0.969507\n",
            "Epoch 25; Loss 1.379885; Train Acc 0.924209; Val Acc 0.967713\n",
            "Epoch 26; Loss 1.383042; Train Acc 0.927054; Val Acc 0.968610\n",
            "Epoch 27; Loss 1.434439; Train Acc 0.925381; Val Acc 0.968610\n",
            "Epoch 28; Loss 1.634427; Train Acc 0.924377; Val Acc 0.971300\n",
            "Epoch 29; Loss 1.362936; Train Acc 0.929898; Val Acc 0.968610\n",
            "Epoch 30; Loss 1.378245; Train Acc 0.923373; Val Acc 0.972197\n"
          ]
        },
        {
          "output_type": "display_data",
          "data": {
            "text/plain": [
              "<Figure size 432x288 with 1 Axes>"
            ],
            "image/png": "[encoded data removed]"
          },
          "metadata": {
            "needs_background": "light"
          }
        },
        {
          "output_type": "display_data",
          "data": {
            "text/plain": [
              "<Figure size 432x288 with 1 Axes>"
            ],
            "image/png": "[encoded data removed]"
          },
          "metadata": {
            "needs_background": "light"
          }
        }
      ]
    },
    {
      "cell_type": "markdown",
      "source": [
        "Observation: From the hyper-parameter tuning we can see that learning rate of 0.001 with 30 epochs and hidden layer size of 10 and using max pool at the end yeilded the best result."
      ],
      "metadata": {
        "id": "deZ1aRSs4g8J"
      }
    },
    {
      "cell_type": "markdown",
      "metadata": {
        "id": "v7DY56rKa91I"
      },
      "source": [
        "### Part (d) [1 pt]\n",
        "\n",
        "Before we deploy a machine learning model, we usually want to have a better understanding\n",
        "of how our model performs beyond its validation accuracy. An important metric to track is\n",
        "*how well our model performs in certain subsets of the data*.\n",
        "\n",
        "In particular, what is the model's error rate amongst data with negative labels?\n",
        "This is called the **false positive rate**.\n",
        "\n",
        "What about the model's error rate amongst data with positive labels?\n",
        "This is called the **false negative rate**.\n",
        "\n",
        "Report your final model's false positive and false negative rate across the\n",
        "validation set."
      ]
    },
    {
      "cell_type": "code",
      "metadata": {
        "id": "7ggbQSdba91J"
      },
      "source": [
        "# Create a Dataset of only spam validation examples\n",
        "valid_spam = torchtext.legacy.data.Dataset(\n",
        "    [e for e in valid.examples if e.label == 1],\n",
        "    valid.fields)\n",
        "# Create a Dataset of only non-spam validation examples\n",
        "valid_nonspam = torchtext.legacy.data.Dataset(\n",
        "    [e for e in valid.examples if e.label == 0],\n",
        "    valid.fields)"
      ],
      "execution_count": 32,
      "outputs": []
    },
    {
      "cell_type": "code",
      "source": [
        "best_model = sd_RNN(input_size = len(text_field.vocab),hidden_size = 10,num_classes=2,pooling=True,pool_type=1)\n",
        "best_model_path = get_model_name(best_model.name,32,0.001,29,10,2)\n",
        "# model_path = \"/content/model_sd_RNN_bs32_lr0.001_epoch28_hidden10_out2\"\n",
        "state = torch.load(best_model_path)\n",
        "best_model.load_state_dict(state)"
      ],
      "metadata": {
        "colab": {
          "base_uri": "https://localhost:8080/"
        },
        "id": "R_tUbFkT5Y1L",
        "outputId": "ee2d37d0-db05-4463-dc82-83c4951ae3e0"
      },
      "execution_count": 33,
      "outputs": [
        {
          "output_type": "execute_result",
          "data": {
            "text/plain": [
              "<All keys matched successfully>"
            ]
          },
          "metadata": {},
          "execution_count": 33
        }
      ]
    },
    {
      "cell_type": "code",
      "source": [
        "spam_loader = torchtext.legacy.data.BucketIterator(valid_spam,\n",
        "                                                    batch_size=1,\n",
        "                                                    sort_key=lambda x: len(x.sms), # to minimize padding\n",
        "                                                    sort_within_batch=True,        # sort within each batch\n",
        "                                                    repeat=False)                  # repeat the iterator for many epochs\n",
        "nonspam_loader = torchtext.legacy.data.BucketIterator(valid_nonspam,\n",
        "                                                      batch_size=1,\n",
        "                                                      sort_key=lambda x: len(x.sms), # to minimize padding\n",
        "                                                      sort_within_batch=True,        # sort within each batch\n",
        "                                                      repeat=False)                  # repeat the iterator for many epochs"
      ],
      "metadata": {
        "id": "0qjoPPE0ZKcz"
      },
      "execution_count": 78,
      "outputs": []
    },
    {
      "cell_type": "markdown",
      "source": [
        "\n",
        "https://www.dataschool.io/simple-guide-to-confusion-matrix-terminology/\n",
        "\n",
        "Observation: How often does it predicts it as spam when its a non spam message. {False Positive rate}. By the Accuracy formula we can get the TNR with the non spam dataset, therefore by subtracting with one we can get FPR.\n",
        "\n",
        "False Negative rate, In the actual spam messages, how often the model predicts it as non spam message. (can be found by subtracting 1-TPR)\n"
      ],
      "metadata": {
        "id": "JcNK0OqPaMQM"
      }
    },
    {
      "cell_type": "code",
      "source": [
        "FPR = 1- get_accuracy(best_model,nonspam_loader)\n",
        "FNR = 1- get_accuracy(best_model,spam_loader)\n",
        "print(f\"False Positive Rate is: {round(FPR,4)} and False Negative rate is: {round(FNR,4)}\")"
      ],
      "metadata": {
        "colab": {
          "base_uri": "https://localhost:8080/"
        },
        "id": "pgcVJfkSZjB1",
        "outputId": "1228b06f-377e-4484-ad3b-d61119592c00"
      },
      "execution_count": 79,
      "outputs": [
        {
          "output_type": "stream",
          "name": "stdout",
          "text": [
            "False Positive Rate is: 0.0185 and False Negative rate is: 0.0764\n"
          ]
        }
      ]
    },
    {
      "cell_type": "markdown",
      "metadata": {
        "id": "N1iRteb3a91O"
      },
      "source": [
        "### Part (e) [1 pt]\n",
        "\n",
        "The impact of a false positive vs a false negative can be drastically different.\n",
        "If our spam detection algorithm was deployed on your phone, what is the impact\n",
        "of a false positive on the phone's user? What is the impact of a false negative?"
      ]
    },
    {
      "cell_type": "markdown",
      "source": [
        "Ans: If the spam detection algorithm is deployed on my phone, i can say that based on the obtained result so far, the algorithm will be able to classify all the messages with FPR of 0.0185 (i.e, in 100 non spam messages, one or two message will be classified as spam) and approx seven or eight message of 100 spam message may be classified as non spam message (0.0764 FNR)"
      ],
      "metadata": {
        "id": "phRVQTbhd6Pr"
      }
    },
    {
      "cell_type": "markdown",
      "metadata": {
        "id": "Gznefulsa91V"
      },
      "source": [
        "## Part 4. Evaluation [7 pt]\n",
        "\n",
        "### Part (a) [1 pt]\n",
        "\n",
        "Report the final test accuracy of your model."
      ]
    },
    {
      "cell_type": "code",
      "metadata": {
        "id": "D5L5D-A1a91W"
      },
      "source": [
        "test_loader = torchtext.legacy.data.BucketIterator(test,\n",
        "                                                   batch_size=1,\n",
        "                                                   sort_key=lambda x: len(x.sms), # to minimize padding\n",
        "                                                   sort_within_batch=True,        # sort within each batch\n",
        "                                                   repeat=False)                  # repeat the iterator for many epochs"
      ],
      "execution_count": 76,
      "outputs": []
    },
    {
      "cell_type": "code",
      "source": [
        "print(f\"Final Test set accuracy is: {round(get_accuracy(best_model,test_loader),4)}\")"
      ],
      "metadata": {
        "colab": {
          "base_uri": "https://localhost:8080/"
        },
        "id": "6WnuPRrwfFjd",
        "outputId": "6d9dcc34-4aa9-4417-a33a-03627e187131"
      },
      "execution_count": 77,
      "outputs": [
        {
          "output_type": "stream",
          "name": "stdout",
          "text": [
            "Final Test set accuracy is: 0.9677\n"
          ]
        }
      ]
    },
    {
      "cell_type": "markdown",
      "source": [
        "Observation: We were able to obtain 96.77% accuracy on the test dataset."
      ],
      "metadata": {
        "id": "tjYexP5tfXQz"
      }
    },
    {
      "cell_type": "markdown",
      "metadata": {
        "id": "6Hjmd8rca91Y"
      },
      "source": [
        "### Part (b) [1 pt]\n",
        "\n",
        "Report the false positive rate and false negative rate of your model across the test set."
      ]
    },
    {
      "cell_type": "code",
      "metadata": {
        "id": "GFiAKztJa91Z"
      },
      "source": [
        "# Create a Dataset of only spam validation examples\n",
        "test_spam = torchtext.legacy.data.Dataset(\n",
        "    [e for e in test.examples if e.label == 1],\n",
        "    test.fields)\n",
        "# Create a Dataset of only non-spam validation examples\n",
        "test_nonspam = torchtext.legacy.data.Dataset(\n",
        "    [e for e in test.examples if e.label == 0],\n",
        "    test.fields)"
      ],
      "execution_count": 38,
      "outputs": []
    },
    {
      "cell_type": "code",
      "source": [
        "spam_loader_test = torchtext.legacy.data.BucketIterator(test_spam,\n",
        "                                                        batch_size=1,\n",
        "                                                        sort_key=lambda x: len(x.sms), # to minimize padding\n",
        "                                                        sort_within_batch=True,        # sort within each batch\n",
        "                                                        repeat=False)                  # repeat the iterator for many epochs\n",
        "nonspam_loader_test = torchtext.legacy.data.BucketIterator(test_nonspam,\n",
        "                                                           batch_size=1,\n",
        "                                                           sort_key=lambda x: len(x.sms), # to minimize padding\n",
        "                                                           sort_within_batch=True,        # sort within each batch\n",
        "                                                           repeat=False)                  # repeat the iterator for many epochs"
      ],
      "metadata": {
        "id": "ENLvnFKNfvPW"
      },
      "execution_count": 74,
      "outputs": []
    },
    {
      "cell_type": "code",
      "source": [
        "FPR_test = 1- get_accuracy(best_model,nonspam_loader_test)\n",
        "FNR_test = 1- get_accuracy(best_model,spam_loader_test)\n",
        "print(f\"False Positive Rate is: {round(FPR_test,4)} and False Negative rate is: {round(FNR_test,4)}\")"
      ],
      "metadata": {
        "colab": {
          "base_uri": "https://localhost:8080/"
        },
        "id": "qiTCR7Cxf865",
        "outputId": "47f875c8-6606-4bb2-f3f7-6aedd2bebc0c"
      },
      "execution_count": 75,
      "outputs": [
        {
          "output_type": "stream",
          "name": "stdout",
          "text": [
            "False Positive Rate is: 0.0178 and False Negative rate is: 0.1188\n"
          ]
        }
      ]
    },
    {
      "cell_type": "markdown",
      "metadata": {
        "id": "0jGHtQFpa91b"
      },
      "source": [
        "### Part (c) [3 pt]\n",
        "\n",
        "What is your model's prediction of the **probability** that\n",
        "the SMS message \"machine learning is sooo cool!\" is spam?\n",
        "\n",
        "Hint: To begin, use `text_field.vocab.stoi` to look up the index\n",
        "of each character in the vocabulary."
      ]
    },
    {
      "cell_type": "code",
      "metadata": {
        "id": "h_2nSJq8a91b"
      },
      "source": [
        "msg = \"machine learning is sooo cool!\""
      ],
      "execution_count": 41,
      "outputs": []
    },
    {
      "cell_type": "code",
      "source": [
        "msg_tensor = torch.tensor([text_field.vocab.stoi[i] for i in msg])\n",
        "msg_tensor = torch.unsqueeze(msg_tensor,0)"
      ],
      "metadata": {
        "id": "Vk9LNv9rhw_x"
      },
      "execution_count": 42,
      "outputs": []
    },
    {
      "cell_type": "code",
      "source": [
        "output = best_model(msg_tensor)\n",
        "print(f\"The message is spam: {output.max(1, keepdim=True)[1] == 1}\")\n",
        "prob_spam = F.softmax(output,dim=1)[0][1]*100\n",
        "print(f\"Probability of message being spam: {round(prob_spam.item(),2)}%\")"
      ],
      "metadata": {
        "colab": {
          "base_uri": "https://localhost:8080/"
        },
        "id": "lp1_HEwZghMa",
        "outputId": "5faf284c-fcff-4dad-fe1c-f2b4cca58687"
      },
      "execution_count": 43,
      "outputs": [
        {
          "output_type": "stream",
          "name": "stdout",
          "text": [
            "The message is spam: tensor([[False]])\n",
            "Probability of message being spam: 1.58%\n"
          ]
        }
      ]
    },
    {
      "cell_type": "markdown",
      "metadata": {
        "id": "QD1zgYJpa91f"
      },
      "source": [
        "### Part (d) [2 pt]\n",
        "\n",
        "Do you think detecting spam is an easy or difficult task?\n",
        "\n",
        "Since machine learning models are expensive to train and deploy, it is very\n",
        "important to compare our models against baseline models: a simple\n",
        "model that is easy to build and inexpensive to run that we can compare our\n",
        "recurrent neural network model against.\n",
        "\n",
        "Explain how you might build a simple baseline model. This baseline model\n",
        "can be a simple neural network (with very few weights), a hand-written algorithm,\n",
        "or any other strategy that is easy to build and test.\n",
        "\n",
        "**Do not actually build a baseline model. Instead, provide instructions on\n",
        "how to build it.**"
      ]
    },
    {
      "cell_type": "markdown",
      "source": [
        "Reference: https://bdtechtalks.com/2020/11/30/machine-learning-spam-detection/#:~:text=Spam%20detection%20is%20a%20supervised,data%20sets%20of%20labeled%20emails.\n",
        "\n",
        "\n",
        "One of the best classifier for spam/ham detection is using Naive bayes classifier, we can use Bow for naively classifying, if the certain words are present in abundance in a message, the probability of the message being spam can be increased. Also, use of bigram and/or trigram can also increase the probabilty of the classification based on the dataset being used.\n",
        "\n",
        "The words in the spam/ham messages are taken as Bow vectors and the matrix is given as input for the multinomial/binomial NB model in sklearn. Since its a supervised model, the output of the model after hyperparameter optimization can be compared with the labels to check for the accuracy of the model. [have to make sure the data is not biased] "
      ],
      "metadata": {
        "id": "swLAucjstE4q"
      }
    },
    {
      "cell_type": "markdown",
      "metadata": {
        "id": "zIR3Q5l0v1HP"
      },
      "source": [
        "# PART B - Transfer Learning [20 pt]\n",
        "\n",
        "In this part we will compare our earlier model with one that takes advantage of a generative RNN model to improve the prediction. There are several ways to implement transfer learning with RNNs, here we will use an approach known as ULMFiT developed by fastai. Rather than rebuilding the model from scratch, we will take advantage of the fastai library.\n",
        "\n",
        "Provided below is some helper code to get you started.\n",
        "\n",
        "#### Helper Code"
      ]
    },
    {
      "cell_type": "code",
      "metadata": {
        "id": "5R-_BQyiAMoo",
        "colab": {
          "base_uri": "https://localhost:8080/"
        },
        "outputId": "ccda3a4e-30b4-4d7a-c62f-88c59ca2b18d"
      },
      "source": [
        "# install relevant libraries\n",
        "!pip install fastai"
      ],
      "execution_count": 44,
      "outputs": [
        {
          "output_type": "stream",
          "name": "stdout",
          "text": [
            "Requirement already satisfied: fastai in /usr/local/lib/python3.7/dist-packages (1.0.61)\n",
            "Requirement already satisfied: packaging in /usr/local/lib/python3.7/dist-packages (from fastai) (21.3)\n",
            "Requirement already satisfied: pyyaml in /usr/local/lib/python3.7/dist-packages (from fastai) (3.13)\n",
            "Requirement already satisfied: requests in /usr/local/lib/python3.7/dist-packages (from fastai) (2.23.0)\n",
            "Requirement already satisfied: fastprogress>=0.2.1 in /usr/local/lib/python3.7/dist-packages (from fastai) (1.0.2)\n",
            "Requirement already satisfied: torch>=1.0.0 in /usr/local/lib/python3.7/dist-packages (from fastai) (1.10.0+cu111)\n",
            "Requirement already satisfied: bottleneck in /usr/local/lib/python3.7/dist-packages (from fastai) (1.3.4)\n",
            "Requirement already satisfied: torchvision in /usr/local/lib/python3.7/dist-packages (from fastai) (0.11.1+cu111)\n",
            "Requirement already satisfied: scipy in /usr/local/lib/python3.7/dist-packages (from fastai) (1.4.1)\n",
            "Requirement already satisfied: spacy>=2.0.18 in /usr/local/lib/python3.7/dist-packages (from fastai) (2.2.4)\n",
            "Requirement already satisfied: pandas in /usr/local/lib/python3.7/dist-packages (from fastai) (1.3.5)\n",
            "Requirement already satisfied: beautifulsoup4 in /usr/local/lib/python3.7/dist-packages (from fastai) (4.6.3)\n",
            "Requirement already satisfied: Pillow in /usr/local/lib/python3.7/dist-packages (from fastai) (7.1.2)\n",
            "Requirement already satisfied: numexpr in /usr/local/lib/python3.7/dist-packages (from fastai) (2.8.1)\n",
            "Requirement already satisfied: matplotlib in /usr/local/lib/python3.7/dist-packages (from fastai) (3.2.2)\n",
            "Requirement already satisfied: nvidia-ml-py3 in /usr/local/lib/python3.7/dist-packages (from fastai) (7.352.0)\n",
            "Requirement already satisfied: numpy>=1.15 in /usr/local/lib/python3.7/dist-packages (from fastai) (1.21.5)\n",
            "Requirement already satisfied: wasabi<1.1.0,>=0.4.0 in /usr/local/lib/python3.7/dist-packages (from spacy>=2.0.18->fastai) (0.9.0)\n",
            "Requirement already satisfied: preshed<3.1.0,>=3.0.2 in /usr/local/lib/python3.7/dist-packages (from spacy>=2.0.18->fastai) (3.0.6)\n",
            "Requirement already satisfied: tqdm<5.0.0,>=4.38.0 in /usr/local/lib/python3.7/dist-packages (from spacy>=2.0.18->fastai) (4.63.0)\n",
            "Requirement already satisfied: catalogue<1.1.0,>=0.0.7 in /usr/local/lib/python3.7/dist-packages (from spacy>=2.0.18->fastai) (1.0.0)\n",
            "Requirement already satisfied: blis<0.5.0,>=0.4.0 in /usr/local/lib/python3.7/dist-packages (from spacy>=2.0.18->fastai) (0.4.1)\n",
            "Requirement already satisfied: murmurhash<1.1.0,>=0.28.0 in /usr/local/lib/python3.7/dist-packages (from spacy>=2.0.18->fastai) (1.0.6)\n",
            "Requirement already satisfied: srsly<1.1.0,>=1.0.2 in /usr/local/lib/python3.7/dist-packages (from spacy>=2.0.18->fastai) (1.0.5)\n",
            "Requirement already satisfied: cymem<2.1.0,>=2.0.2 in /usr/local/lib/python3.7/dist-packages (from spacy>=2.0.18->fastai) (2.0.6)\n",
            "Requirement already satisfied: plac<1.2.0,>=0.9.6 in /usr/local/lib/python3.7/dist-packages (from spacy>=2.0.18->fastai) (1.1.3)\n",
            "Requirement already satisfied: thinc==7.4.0 in /usr/local/lib/python3.7/dist-packages (from spacy>=2.0.18->fastai) (7.4.0)\n",
            "Requirement already satisfied: setuptools in /usr/local/lib/python3.7/dist-packages (from spacy>=2.0.18->fastai) (57.4.0)\n",
            "Requirement already satisfied: importlib-metadata>=0.20 in /usr/local/lib/python3.7/dist-packages (from catalogue<1.1.0,>=0.0.7->spacy>=2.0.18->fastai) (4.11.3)\n",
            "Requirement already satisfied: zipp>=0.5 in /usr/local/lib/python3.7/dist-packages (from importlib-metadata>=0.20->catalogue<1.1.0,>=0.0.7->spacy>=2.0.18->fastai) (3.7.0)\n",
            "Requirement already satisfied: typing-extensions>=3.6.4 in /usr/local/lib/python3.7/dist-packages (from importlib-metadata>=0.20->catalogue<1.1.0,>=0.0.7->spacy>=2.0.18->fastai) (3.10.0.2)\n",
            "Requirement already satisfied: urllib3!=1.25.0,!=1.25.1,<1.26,>=1.21.1 in /usr/local/lib/python3.7/dist-packages (from requests->fastai) (1.24.3)\n",
            "Requirement already satisfied: idna<3,>=2.5 in /usr/local/lib/python3.7/dist-packages (from requests->fastai) (2.10)\n",
            "Requirement already satisfied: chardet<4,>=3.0.2 in /usr/local/lib/python3.7/dist-packages (from requests->fastai) (3.0.4)\n",
            "Requirement already satisfied: certifi>=2017.4.17 in /usr/local/lib/python3.7/dist-packages (from requests->fastai) (2021.10.8)\n",
            "Requirement already satisfied: python-dateutil>=2.1 in /usr/local/lib/python3.7/dist-packages (from matplotlib->fastai) (2.8.2)\n",
            "Requirement already satisfied: cycler>=0.10 in /usr/local/lib/python3.7/dist-packages (from matplotlib->fastai) (0.11.0)\n",
            "Requirement already satisfied: pyparsing!=2.0.4,!=2.1.2,!=2.1.6,>=2.0.1 in /usr/local/lib/python3.7/dist-packages (from matplotlib->fastai) (3.0.7)\n",
            "Requirement already satisfied: kiwisolver>=1.0.1 in /usr/local/lib/python3.7/dist-packages (from matplotlib->fastai) (1.4.0)\n",
            "Requirement already satisfied: six>=1.5 in /usr/local/lib/python3.7/dist-packages (from python-dateutil>=2.1->matplotlib->fastai) (1.15.0)\n",
            "Requirement already satisfied: pytz>=2017.3 in /usr/local/lib/python3.7/dist-packages (from pandas->fastai) (2018.9)\n"
          ]
        }
      ]
    },
    {
      "cell_type": "code",
      "metadata": {
        "id": "316Xs5WBv0kg"
      },
      "source": [
        "# load relevant libraries\n",
        "from fastai import * \n",
        "import pandas as pd\n",
        "import numpy as np\n",
        "from functools import partial\n",
        "import io\n",
        "import os\n",
        "from fastai.text import *"
      ],
      "execution_count": 45,
      "outputs": []
    },
    {
      "cell_type": "code",
      "metadata": {
        "id": "MfoKX8tKAU4Q",
        "colab": {
          "base_uri": "https://localhost:8080/"
        },
        "outputId": "69a6693a-f860-4c4a-870f-440e2678b575"
      },
      "source": [
        "# download SPAM data\n",
        "!wget https://archive.ics.uci.edu/ml/machine-learning-databases/00228/smsspamcollection.zip\n",
        "!unzip smsspamcollection.zip"
      ],
      "execution_count": 46,
      "outputs": [
        {
          "output_type": "stream",
          "name": "stdout",
          "text": [
            "--2022-03-23 14:11:33--  https://archive.ics.uci.edu/ml/machine-learning-databases/00228/smsspamcollection.zip\n",
            "Resolving archive.ics.uci.edu (archive.ics.uci.edu)... 128.195.10.252\n",
            "Connecting to archive.ics.uci.edu (archive.ics.uci.edu)|128.195.10.252|:443... connected.\n",
            "HTTP request sent, awaiting response... 200 OK\n",
            "Length: 203415 (199K) [application/x-httpd-php]\n",
            "Saving to: ‘smsspamcollection.zip.1’\n",
            "\n",
            "smsspamcollection.z 100%[===================>] 198.65K   730KB/s    in 0.3s    \n",
            "\n",
            "2022-03-23 14:11:33 (730 KB/s) - ‘smsspamcollection.zip.1’ saved [203415/203415]\n",
            "\n",
            "Archive:  smsspamcollection.zip\n",
            "replace SMSSpamCollection? [y]es, [n]o, [A]ll, [N]one, [r]ename: N\n"
          ]
        }
      ]
    },
    {
      "cell_type": "markdown",
      "metadata": {
        "id": "J4vSv4Z9QxTJ"
      },
      "source": [
        "This time we will load the data using pandas."
      ]
    },
    {
      "cell_type": "code",
      "metadata": {
        "id": "RKPhLwlhAbv-",
        "colab": {
          "base_uri": "https://localhost:8080/",
          "height": 206
        },
        "outputId": "89d51bac-e98a-4b51-cc0e-df0d02047061"
      },
      "source": [
        "# set up data and verify\n",
        "df1 = pd.read_csv('SMSSpamCollection', sep='\\t',  header=None, names=['target', 'text'])\n",
        "df1.head()"
      ],
      "execution_count": 47,
      "outputs": [
        {
          "output_type": "execute_result",
          "data": {
            "text/plain": [
              "  target                                               text\n",
              "0    ham  Go until jurong point, crazy.. Available only ...\n",
              "1    ham                      Ok lar... Joking wif u oni...\n",
              "2   spam  Free entry in 2 a wkly comp to win FA Cup fina...\n",
              "3    ham  U dun say so early hor... U c already then say...\n",
              "4    ham  Nah I don't think he goes to usf, he lives aro..."
            ],
            "text/html": [
              "\n",
              "  <div id=\"df-b16eedbf-9313-4a5f-9c0c-ad35580db0a1\">\n",
              "    <div class=\"colab-df-container\">\n",
              "      <div>\n",
              "<style scoped>\n",
              "    .dataframe tbody tr th:only-of-type {\n",
              "        vertical-align: middle;\n",
              "    }\n",
              "\n",
              "    .dataframe tbody tr th {\n",
              "        vertical-align: top;\n",
              "    }\n",
              "\n",
              "    .dataframe thead th {\n",
              "        text-align: right;\n",
              "    }\n",
              "</style>\n",
              "<table border=\"1\" class=\"dataframe\">\n",
              "  <thead>\n",
              "    <tr style=\"text-align: right;\">\n",
              "      <th></th>\n",
              "      <th>target</th>\n",
              "      <th>text</th>\n",
              "    </tr>\n",
              "  </thead>\n",
              "  <tbody>\n",
              "    <tr>\n",
              "      <th>0</th>\n",
              "      <td>ham</td>\n",
              "      <td>Go until jurong point, crazy.. Available only ...</td>\n",
              "    </tr>\n",
              "    <tr>\n",
              "      <th>1</th>\n",
              "      <td>ham</td>\n",
              "      <td>Ok lar... Joking wif u oni...</td>\n",
              "    </tr>\n",
              "    <tr>\n",
              "      <th>2</th>\n",
              "      <td>spam</td>\n",
              "      <td>Free entry in 2 a wkly comp to win FA Cup fina...</td>\n",
              "    </tr>\n",
              "    <tr>\n",
              "      <th>3</th>\n",
              "      <td>ham</td>\n",
              "      <td>U dun say so early hor... U c already then say...</td>\n",
              "    </tr>\n",
              "    <tr>\n",
              "      <th>4</th>\n",
              "      <td>ham</td>\n",
              "      <td>Nah I don't think he goes to usf, he lives aro...</td>\n",
              "    </tr>\n",
              "  </tbody>\n",
              "</table>\n",
              "</div>\n",
              "      <button class=\"colab-df-convert\" onclick=\"convertToInteractive('df-b16eedbf-9313-4a5f-9c0c-ad35580db0a1')\"\n",
              "              title=\"Convert this dataframe to an interactive table.\"\n",
              "              style=\"display:none;\">\n",
              "        \n",
              "  <svg xmlns=\"http://www.w3.org/2000/svg\" height=\"24px\"viewBox=\"0 0 24 24\"\n",
              "       width=\"24px\">\n",
              "    <path d=\"M0 0h24v24H0V0z\" fill=\"none\"/>\n",
              "    <path d=\"M18.56 5.44l.94 2.06.94-2.06 2.06-.94-2.06-.94-.94-2.06-.94 2.06-2.06.94zm-11 1L8.5 8.5l.94-2.06 2.06-.94-2.06-.94L8.5 2.5l-.94 2.06-2.06.94zm10 10l.94 2.06.94-2.06 2.06-.94-2.06-.94-.94-2.06-.94 2.06-2.06.94z\"/><path d=\"M17.41 7.96l-1.37-1.37c-.4-.4-.92-.59-1.43-.59-.52 0-1.04.2-1.43.59L10.3 9.45l-7.72 7.72c-.78.78-.78 2.05 0 2.83L4 21.41c.39.39.9.59 1.41.59.51 0 1.02-.2 1.41-.59l7.78-7.78 2.81-2.81c.8-.78.8-2.07 0-2.86zM5.41 20L4 18.59l7.72-7.72 1.47 1.35L5.41 20z\"/>\n",
              "  </svg>\n",
              "      </button>\n",
              "      \n",
              "  <style>\n",
              "    .colab-df-container {\n",
              "      display:flex;\n",
              "      flex-wrap:wrap;\n",
              "      gap: 12px;\n",
              "    }\n",
              "\n",
              "    .colab-df-convert {\n",
              "      background-color: #E8F0FE;\n",
              "      border: none;\n",
              "      border-radius: 50%;\n",
              "      cursor: pointer;\n",
              "      display: none;\n",
              "      fill: #1967D2;\n",
              "      height: 32px;\n",
              "      padding: 0 0 0 0;\n",
              "      width: 32px;\n",
              "    }\n",
              "\n",
              "    .colab-df-convert:hover {\n",
              "      background-color: #E2EBFA;\n",
              "      box-shadow: 0px 1px 2px rgba(60, 64, 67, 0.3), 0px 1px 3px 1px rgba(60, 64, 67, 0.15);\n",
              "      fill: #174EA6;\n",
              "    }\n",
              "\n",
              "    [theme=dark] .colab-df-convert {\n",
              "      background-color: #3B4455;\n",
              "      fill: #D2E3FC;\n",
              "    }\n",
              "\n",
              "    [theme=dark] .colab-df-convert:hover {\n",
              "      background-color: #434B5C;\n",
              "      box-shadow: 0px 1px 3px 1px rgba(0, 0, 0, 0.15);\n",
              "      filter: drop-shadow(0px 1px 2px rgba(0, 0, 0, 0.3));\n",
              "      fill: #FFFFFF;\n",
              "    }\n",
              "  </style>\n",
              "\n",
              "      <script>\n",
              "        const buttonEl =\n",
              "          document.querySelector('#df-b16eedbf-9313-4a5f-9c0c-ad35580db0a1 button.colab-df-convert');\n",
              "        buttonEl.style.display =\n",
              "          google.colab.kernel.accessAllowed ? 'block' : 'none';\n",
              "\n",
              "        async function convertToInteractive(key) {\n",
              "          const element = document.querySelector('#df-b16eedbf-9313-4a5f-9c0c-ad35580db0a1');\n",
              "          const dataTable =\n",
              "            await google.colab.kernel.invokeFunction('convertToInteractive',\n",
              "                                                     [key], {});\n",
              "          if (!dataTable) return;\n",
              "\n",
              "          const docLinkHtml = 'Like what you see? Visit the ' +\n",
              "            '<a target=\"_blank\" href=https://colab.research.google.com/notebooks/data_table.ipynb>data table notebook</a>'\n",
              "            + ' to learn more about interactive tables.';\n",
              "          element.innerHTML = '';\n",
              "          dataTable['output_type'] = 'display_data';\n",
              "          await google.colab.output.renderOutput(dataTable, element);\n",
              "          const docLink = document.createElement('div');\n",
              "          docLink.innerHTML = docLinkHtml;\n",
              "          element.appendChild(docLink);\n",
              "        }\n",
              "      </script>\n",
              "    </div>\n",
              "  </div>\n",
              "  "
            ]
          },
          "metadata": {},
          "execution_count": 47
        }
      ]
    },
    {
      "cell_type": "code",
      "metadata": {
        "id": "rorC2T1yAfWY",
        "colab": {
          "base_uri": "https://localhost:8080/"
        },
        "outputId": "5fd58bb5-a3b7-4e0f-9a99-b73f3073ff15"
      },
      "source": [
        "# check distribution\n",
        "df1['target'].value_counts()"
      ],
      "execution_count": 48,
      "outputs": [
        {
          "output_type": "execute_result",
          "data": {
            "text/plain": [
              "ham     4825\n",
              "spam     747\n",
              "Name: target, dtype: int64"
            ]
          },
          "metadata": {},
          "execution_count": 48
        }
      ]
    },
    {
      "cell_type": "markdown",
      "metadata": {
        "id": "snNazefHQ3yo"
      },
      "source": [
        "Split the data into training and validation datasets."
      ]
    },
    {
      "cell_type": "code",
      "metadata": {
        "id": "i4WuVTDhArhc"
      },
      "source": [
        "# split the data and check dimensions\n",
        "\n",
        "from sklearn.model_selection import train_test_split\n",
        "\n",
        "# split data into training and validation set\n",
        "df_trn, df_val = train_test_split(df1, stratify = df1['target'], test_size = 0.3, random_state = 999)"
      ],
      "execution_count": 49,
      "outputs": []
    },
    {
      "cell_type": "code",
      "metadata": {
        "colab": {
          "base_uri": "https://localhost:8080/"
        },
        "id": "uyCkDbTRAyxk",
        "outputId": "fc1a818a-c29b-4b73-d782-39d854f08ed6"
      },
      "source": [
        "df_trn.shape, df_val.shape"
      ],
      "execution_count": 50,
      "outputs": [
        {
          "output_type": "execute_result",
          "data": {
            "text/plain": [
              "((3900, 2), (1672, 2))"
            ]
          },
          "metadata": {},
          "execution_count": 50
        }
      ]
    },
    {
      "cell_type": "markdown",
      "metadata": {
        "id": "kuGx5mebBfEm"
      },
      "source": [
        "### Create the language model\n",
        "Esentially, the language model contains the structure of the language (English in this case), allowing us to quickly use in a classification model, skipping the part of learning the semantics of the language from scratch.\n",
        "\n",
        "Creating a language model from scratch can be intensive due to the sheer size of data. Instead we will download the pre-trained model, which is a neural network (NN) with an AWD_LSTM architecture. By setting pretrained = True we say to fastai to download the weights from the trained model (a corpus of 103 MM of wikipedia articles)."
      ]
    },
    {
      "cell_type": "code",
      "metadata": {
        "id": "S6yWJklsBdPp",
        "colab": {
          "base_uri": "https://localhost:8080/",
          "height": 72
        },
        "outputId": "de2277d3-a092-434a-cf9c-2a190a05f56e"
      },
      "source": [
        "# create pretrained language model data\n",
        "data_lm = TextLMDataBunch.from_df(train_df = df_trn, valid_df = df_val, path = \"\")\n",
        "lang_mod = language_model_learner(data_lm,  arch = AWD_LSTM, pretrained = True, drop_mult=1.)"
      ],
      "execution_count": 107,
      "outputs": [
        {
          "output_type": "display_data",
          "data": {
            "text/plain": [
              "<IPython.core.display.HTML object>"
            ],
            "text/html": [
              "\n",
              "<style>\n",
              "    /* Turns off some styling */\n",
              "    progress {\n",
              "        /* gets rid of default border in Firefox and Opera. */\n",
              "        border: none;\n",
              "        /* Needs to be in here for Safari polyfill so background images work as expected. */\n",
              "        background-size: auto;\n",
              "    }\n",
              "    .progress-bar-interrupted, .progress-bar-interrupted::-webkit-progress-bar {\n",
              "        background: #F44336;\n",
              "    }\n",
              "</style>\n"
            ]
          },
          "metadata": {}
        },
        {
          "output_type": "display_data",
          "data": {
            "text/plain": [
              "<IPython.core.display.HTML object>"
            ],
            "text/html": [
              ""
            ]
          },
          "metadata": {}
        },
        {
          "output_type": "stream",
          "name": "stderr",
          "text": [
            "/usr/local/lib/python3.7/dist-packages/fastai/core.py:302: VisibleDeprecationWarning: Creating an ndarray from ragged nested sequences (which is a list-or-tuple of lists-or-tuples-or ndarrays with different lengths or shapes) is deprecated. If you meant to do this, you must specify 'dtype=object' when creating the ndarray.\n",
            "  return np.array(a, dtype=dtype, **kwargs)\n"
          ]
        },
        {
          "output_type": "display_data",
          "data": {
            "text/plain": [
              "<IPython.core.display.HTML object>"
            ],
            "text/html": [
              "\n",
              "<style>\n",
              "    /* Turns off some styling */\n",
              "    progress {\n",
              "        /* gets rid of default border in Firefox and Opera. */\n",
              "        border: none;\n",
              "        /* Needs to be in here for Safari polyfill so background images work as expected. */\n",
              "        background-size: auto;\n",
              "    }\n",
              "    .progress-bar-interrupted, .progress-bar-interrupted::-webkit-progress-bar {\n",
              "        background: #F44336;\n",
              "    }\n",
              "</style>\n"
            ]
          },
          "metadata": {}
        },
        {
          "output_type": "display_data",
          "data": {
            "text/plain": [
              "<IPython.core.display.HTML object>"
            ],
            "text/html": [
              ""
            ]
          },
          "metadata": {}
        }
      ]
    },
    {
      "cell_type": "markdown",
      "metadata": {
        "id": "lT_aVqCRB8DJ"
      },
      "source": [
        "### Testing the language model\n"
      ]
    },
    {
      "cell_type": "code",
      "metadata": {
        "id": "PlZgAMGbCZXY",
        "colab": {
          "base_uri": "https://localhost:8080/"
        },
        "outputId": "4fc66256-0c80-441e-bd6d-6bf76385e418"
      },
      "source": [
        "for i in range(5):\n",
        "  print(lang_mod.predict(\"The problem usually starts when\", n_words=10))"
      ],
      "execution_count": 108,
      "outputs": [
        {
          "output_type": "stream",
          "name": "stdout",
          "text": [
            "The problem usually starts when the asking door is not closed until the lunch was\n",
            "The problem usually starts when there is a change of local mood , and sometimes\n",
            "The problem usually starts when there is a gap between the two top missing secret\n",
            "The problem usually starts when jason is left either on his back and because he\n",
            "The problem usually starts when Ibh takes care of a shop and has a\n"
          ]
        }
      ]
    },
    {
      "cell_type": "markdown",
      "metadata": {
        "id": "8-9pK9cTCmFP"
      },
      "source": [
        "Each time we excecute the `predict`, we get a different random sentence, completed with the number of choosen words (`n_words`).\n",
        "\n",
        "Try your own sentences!"
      ]
    },
    {
      "cell_type": "code",
      "source": [
        "for i in range(3):\n",
        "  print(lang_mod.predict(\"Danny is a\", n_words=4))"
      ],
      "metadata": {
        "colab": {
          "base_uri": "https://localhost:8080/"
        },
        "id": "f6Kq-zCmvH0n",
        "outputId": "3e13f2b5-71a3-4210-f965-cc397a166af4"
      },
      "execution_count": 109,
      "outputs": [
        {
          "output_type": "stream",
          "name": "stdout",
          "text": [
            "Danny is a 2003 Indian\n",
            "Danny is a free - calling short\n",
            "Danny is a Missed Day\n"
          ]
        }
      ]
    },
    {
      "cell_type": "code",
      "source": [
        "for i in range(5):\n",
        "  print(lang_mod.predict(\"This movie is\", n_words=5))"
      ],
      "metadata": {
        "colab": {
          "base_uri": "https://localhost:8080/"
        },
        "id": "4r90pSD1voKI",
        "outputId": "9a4e72ce-fc7f-472c-ac7a-b3195e80bbf2"
      },
      "execution_count": 110,
      "outputs": [
        {
          "output_type": "stream",
          "name": "stdout",
          "text": [
            "This movie is seen in the John\n",
            "This movie is the first film in\n",
            "This movie is an boring version , but\n",
            "This movie is the most - played -\n",
            "This movie is a part of The\n"
          ]
        }
      ]
    },
    {
      "cell_type": "markdown",
      "metadata": {
        "id": "Q8-HUwNYCqSO"
      },
      "source": [
        "### Fine-tuning the language model\n",
        "The language model that we have \"loaded\" is great for generating wikipedia-like sentances, but here we're more interested in generating data like our email dataset. \n",
        "\n",
        "Make sure to enable GPU for this step or it make takes several hours to train."
      ]
    },
    {
      "cell_type": "code",
      "metadata": {
        "id": "2Z6lG13vRnbo",
        "colab": {
          "base_uri": "https://localhost:8080/",
          "height": 554
        },
        "outputId": "b95613a3-ef5c-47a0-df24-022f83a866cf"
      },
      "source": [
        "# fine-tune language model data\n",
        "lang_mod.fit_one_cycle(4, max_lr= 5e-02)\n",
        "lang_mod.freeze_to(-1)\n",
        "lang_mod.fit_one_cycle(3, slice(1e-2/(2.6**4), 1e-2))\n",
        "lang_mod.freeze_to(-2)\n",
        "lang_mod.fit_one_cycle(3, slice(3e-3/(2.6**4), 1e-3))\n",
        "lang_mod.unfreeze()\n",
        "lang_mod.fit_one_cycle(3, slice(3e-3/(2.6**4), 1e-3))\n",
        "\n",
        "# save language model\n",
        "lang_mod.save_encoder('my_awsome_encoder')"
      ],
      "execution_count": 111,
      "outputs": [
        {
          "output_type": "display_data",
          "data": {
            "text/plain": [
              "<IPython.core.display.HTML object>"
            ],
            "text/html": [
              "\n",
              "<style>\n",
              "    /* Turns off some styling */\n",
              "    progress {\n",
              "        /* gets rid of default border in Firefox and Opera. */\n",
              "        border: none;\n",
              "        /* Needs to be in here for Safari polyfill so background images work as expected. */\n",
              "        background-size: auto;\n",
              "    }\n",
              "    .progress-bar-interrupted, .progress-bar-interrupted::-webkit-progress-bar {\n",
              "        background: #F44336;\n",
              "    }\n",
              "</style>\n"
            ]
          },
          "metadata": {}
        },
        {
          "output_type": "display_data",
          "data": {
            "text/plain": [
              "<IPython.core.display.HTML object>"
            ],
            "text/html": [
              "<table border=\"1\" class=\"dataframe\">\n",
              "  <thead>\n",
              "    <tr style=\"text-align: left;\">\n",
              "      <th>epoch</th>\n",
              "      <th>train_loss</th>\n",
              "      <th>valid_loss</th>\n",
              "      <th>accuracy</th>\n",
              "      <th>time</th>\n",
              "    </tr>\n",
              "  </thead>\n",
              "  <tbody>\n",
              "    <tr>\n",
              "      <td>0</td>\n",
              "      <td>5.560957</td>\n",
              "      <td>3.905977</td>\n",
              "      <td>0.285714</td>\n",
              "      <td>00:02</td>\n",
              "    </tr>\n",
              "    <tr>\n",
              "      <td>1</td>\n",
              "      <td>4.835441</td>\n",
              "      <td>3.940038</td>\n",
              "      <td>0.257143</td>\n",
              "      <td>00:02</td>\n",
              "    </tr>\n",
              "    <tr>\n",
              "      <td>2</td>\n",
              "      <td>4.378239</td>\n",
              "      <td>3.794564</td>\n",
              "      <td>0.242857</td>\n",
              "      <td>00:02</td>\n",
              "    </tr>\n",
              "    <tr>\n",
              "      <td>3</td>\n",
              "      <td>4.055073</td>\n",
              "      <td>3.774731</td>\n",
              "      <td>0.257143</td>\n",
              "      <td>00:02</td>\n",
              "    </tr>\n",
              "  </tbody>\n",
              "</table>"
            ]
          },
          "metadata": {}
        },
        {
          "output_type": "display_data",
          "data": {
            "text/plain": [
              "<IPython.core.display.HTML object>"
            ],
            "text/html": [
              "\n",
              "<style>\n",
              "    /* Turns off some styling */\n",
              "    progress {\n",
              "        /* gets rid of default border in Firefox and Opera. */\n",
              "        border: none;\n",
              "        /* Needs to be in here for Safari polyfill so background images work as expected. */\n",
              "        background-size: auto;\n",
              "    }\n",
              "    .progress-bar-interrupted, .progress-bar-interrupted::-webkit-progress-bar {\n",
              "        background: #F44336;\n",
              "    }\n",
              "</style>\n"
            ]
          },
          "metadata": {}
        },
        {
          "output_type": "display_data",
          "data": {
            "text/plain": [
              "<IPython.core.display.HTML object>"
            ],
            "text/html": [
              "<table border=\"1\" class=\"dataframe\">\n",
              "  <thead>\n",
              "    <tr style=\"text-align: left;\">\n",
              "      <th>epoch</th>\n",
              "      <th>train_loss</th>\n",
              "      <th>valid_loss</th>\n",
              "      <th>accuracy</th>\n",
              "      <th>time</th>\n",
              "    </tr>\n",
              "  </thead>\n",
              "  <tbody>\n",
              "    <tr>\n",
              "      <td>0</td>\n",
              "      <td>3.604179</td>\n",
              "      <td>3.769687</td>\n",
              "      <td>0.285714</td>\n",
              "      <td>00:02</td>\n",
              "    </tr>\n",
              "    <tr>\n",
              "      <td>1</td>\n",
              "      <td>3.544720</td>\n",
              "      <td>3.707261</td>\n",
              "      <td>0.300000</td>\n",
              "      <td>00:02</td>\n",
              "    </tr>\n",
              "    <tr>\n",
              "      <td>2</td>\n",
              "      <td>3.488390</td>\n",
              "      <td>3.715145</td>\n",
              "      <td>0.300000</td>\n",
              "      <td>00:02</td>\n",
              "    </tr>\n",
              "  </tbody>\n",
              "</table>"
            ]
          },
          "metadata": {}
        },
        {
          "output_type": "display_data",
          "data": {
            "text/plain": [
              "<IPython.core.display.HTML object>"
            ],
            "text/html": [
              "\n",
              "<style>\n",
              "    /* Turns off some styling */\n",
              "    progress {\n",
              "        /* gets rid of default border in Firefox and Opera. */\n",
              "        border: none;\n",
              "        /* Needs to be in here for Safari polyfill so background images work as expected. */\n",
              "        background-size: auto;\n",
              "    }\n",
              "    .progress-bar-interrupted, .progress-bar-interrupted::-webkit-progress-bar {\n",
              "        background: #F44336;\n",
              "    }\n",
              "</style>\n"
            ]
          },
          "metadata": {}
        },
        {
          "output_type": "display_data",
          "data": {
            "text/plain": [
              "<IPython.core.display.HTML object>"
            ],
            "text/html": [
              "<table border=\"1\" class=\"dataframe\">\n",
              "  <thead>\n",
              "    <tr style=\"text-align: left;\">\n",
              "      <th>epoch</th>\n",
              "      <th>train_loss</th>\n",
              "      <th>valid_loss</th>\n",
              "      <th>accuracy</th>\n",
              "      <th>time</th>\n",
              "    </tr>\n",
              "  </thead>\n",
              "  <tbody>\n",
              "    <tr>\n",
              "      <td>0</td>\n",
              "      <td>3.392305</td>\n",
              "      <td>3.685590</td>\n",
              "      <td>0.285714</td>\n",
              "      <td>00:02</td>\n",
              "    </tr>\n",
              "    <tr>\n",
              "      <td>1</td>\n",
              "      <td>3.373453</td>\n",
              "      <td>3.680187</td>\n",
              "      <td>0.271429</td>\n",
              "      <td>00:02</td>\n",
              "    </tr>\n",
              "    <tr>\n",
              "      <td>2</td>\n",
              "      <td>3.358603</td>\n",
              "      <td>3.683583</td>\n",
              "      <td>0.285714</td>\n",
              "      <td>00:02</td>\n",
              "    </tr>\n",
              "  </tbody>\n",
              "</table>"
            ]
          },
          "metadata": {}
        },
        {
          "output_type": "display_data",
          "data": {
            "text/plain": [
              "<IPython.core.display.HTML object>"
            ],
            "text/html": [
              "\n",
              "<style>\n",
              "    /* Turns off some styling */\n",
              "    progress {\n",
              "        /* gets rid of default border in Firefox and Opera. */\n",
              "        border: none;\n",
              "        /* Needs to be in here for Safari polyfill so background images work as expected. */\n",
              "        background-size: auto;\n",
              "    }\n",
              "    .progress-bar-interrupted, .progress-bar-interrupted::-webkit-progress-bar {\n",
              "        background: #F44336;\n",
              "    }\n",
              "</style>\n"
            ]
          },
          "metadata": {}
        },
        {
          "output_type": "display_data",
          "data": {
            "text/plain": [
              "<IPython.core.display.HTML object>"
            ],
            "text/html": [
              "<table border=\"1\" class=\"dataframe\">\n",
              "  <thead>\n",
              "    <tr style=\"text-align: left;\">\n",
              "      <th>epoch</th>\n",
              "      <th>train_loss</th>\n",
              "      <th>valid_loss</th>\n",
              "      <th>accuracy</th>\n",
              "      <th>time</th>\n",
              "    </tr>\n",
              "  </thead>\n",
              "  <tbody>\n",
              "    <tr>\n",
              "      <td>0</td>\n",
              "      <td>3.340693</td>\n",
              "      <td>3.702918</td>\n",
              "      <td>0.257143</td>\n",
              "      <td>00:03</td>\n",
              "    </tr>\n",
              "    <tr>\n",
              "      <td>1</td>\n",
              "      <td>3.293095</td>\n",
              "      <td>3.693171</td>\n",
              "      <td>0.285714</td>\n",
              "      <td>00:03</td>\n",
              "    </tr>\n",
              "    <tr>\n",
              "      <td>2</td>\n",
              "      <td>3.260172</td>\n",
              "      <td>3.686216</td>\n",
              "      <td>0.257143</td>\n",
              "      <td>00:03</td>\n",
              "    </tr>\n",
              "  </tbody>\n",
              "</table>"
            ]
          },
          "metadata": {}
        }
      ]
    },
    {
      "cell_type": "markdown",
      "metadata": {
        "id": "KT-Y6pB1SrGg"
      },
      "source": [
        "### Classification model\n",
        "Now we can train a classification model that will identify spam and non-spam messages. Since we used a fastai language model, it will be easier to just continue working with the fastai library."
      ]
    },
    {
      "cell_type": "code",
      "metadata": {
        "id": "MIvfaeOfTDZV",
        "colab": {
          "base_uri": "https://localhost:8080/",
          "height": 126
        },
        "outputId": "c17b6455-49f4-49d0-d2b8-6278f71a9f8b"
      },
      "source": [
        "# Classifier model data\n",
        "data_clas = TextClasDataBunch.from_df(path = \"\", train_df = df_trn,  valid_df = df_val, vocab=data_lm.train_ds.vocab, bs=32)"
      ],
      "execution_count": 112,
      "outputs": [
        {
          "output_type": "display_data",
          "data": {
            "text/plain": [
              "<IPython.core.display.HTML object>"
            ],
            "text/html": [
              "\n",
              "<style>\n",
              "    /* Turns off some styling */\n",
              "    progress {\n",
              "        /* gets rid of default border in Firefox and Opera. */\n",
              "        border: none;\n",
              "        /* Needs to be in here for Safari polyfill so background images work as expected. */\n",
              "        background-size: auto;\n",
              "    }\n",
              "    .progress-bar-interrupted, .progress-bar-interrupted::-webkit-progress-bar {\n",
              "        background: #F44336;\n",
              "    }\n",
              "</style>\n"
            ]
          },
          "metadata": {}
        },
        {
          "output_type": "display_data",
          "data": {
            "text/plain": [
              "<IPython.core.display.HTML object>"
            ],
            "text/html": [
              ""
            ]
          },
          "metadata": {}
        },
        {
          "output_type": "stream",
          "name": "stderr",
          "text": [
            "/usr/local/lib/python3.7/dist-packages/fastai/core.py:302: VisibleDeprecationWarning: Creating an ndarray from ragged nested sequences (which is a list-or-tuple of lists-or-tuples-or ndarrays with different lengths or shapes) is deprecated. If you meant to do this, you must specify 'dtype=object' when creating the ndarray.\n",
            "  return np.array(a, dtype=dtype, **kwargs)\n"
          ]
        },
        {
          "output_type": "display_data",
          "data": {
            "text/plain": [
              "<IPython.core.display.HTML object>"
            ],
            "text/html": [
              "\n",
              "<style>\n",
              "    /* Turns off some styling */\n",
              "    progress {\n",
              "        /* gets rid of default border in Firefox and Opera. */\n",
              "        border: none;\n",
              "        /* Needs to be in here for Safari polyfill so background images work as expected. */\n",
              "        background-size: auto;\n",
              "    }\n",
              "    .progress-bar-interrupted, .progress-bar-interrupted::-webkit-progress-bar {\n",
              "        background: #F44336;\n",
              "    }\n",
              "</style>\n"
            ]
          },
          "metadata": {}
        },
        {
          "output_type": "display_data",
          "data": {
            "text/plain": [
              "<IPython.core.display.HTML object>"
            ],
            "text/html": [
              ""
            ]
          },
          "metadata": {}
        },
        {
          "output_type": "stream",
          "name": "stderr",
          "text": [
            "/usr/local/lib/python3.7/dist-packages/fastai/text/data.py:124: VisibleDeprecationWarning: Creating an ndarray from ragged nested sequences (which is a list-or-tuple of lists-or-tuples-or ndarrays with different lengths or shapes) is deprecated. If you meant to do this, you must specify 'dtype=object' when creating the ndarray.\n",
            "  sort_idx = np.concatenate(np.random.permutation(ck_idx[1:])) if len(ck_idx) > 1 else np.array([],dtype=np.int)\n",
            "<string>:6: VisibleDeprecationWarning: Creating an ndarray from ragged nested sequences (which is a list-or-tuple of lists-or-tuples-or ndarrays with different lengths or shapes) is deprecated. If you meant to do this, you must specify 'dtype=object' when creating the ndarray.\n"
          ]
        }
      ]
    },
    {
      "cell_type": "code",
      "metadata": {
        "id": "Kc2fiXTCTjHh",
        "colab": {
          "base_uri": "https://localhost:8080/",
          "height": 366
        },
        "outputId": "aa52a360-128b-4a81-e466-2c01a641635d"
      },
      "source": [
        "data_clas.show_batch()"
      ],
      "execution_count": 113,
      "outputs": [
        {
          "output_type": "stream",
          "name": "stderr",
          "text": [
            "/usr/local/lib/python3.7/dist-packages/fastai/text/data.py:124: VisibleDeprecationWarning: Creating an ndarray from ragged nested sequences (which is a list-or-tuple of lists-or-tuples-or ndarrays with different lengths or shapes) is deprecated. If you meant to do this, you must specify 'dtype=object' when creating the ndarray.\n",
            "  sort_idx = np.concatenate(np.random.permutation(ck_idx[1:])) if len(ck_idx) > 1 else np.array([],dtype=np.int)\n",
            "<string>:6: VisibleDeprecationWarning: Creating an ndarray from ragged nested sequences (which is a list-or-tuple of lists-or-tuples-or ndarrays with different lengths or shapes) is deprecated. If you meant to do this, you must specify 'dtype=object' when creating the ndarray.\n"
          ]
        },
        {
          "output_type": "display_data",
          "data": {
            "text/plain": [
              "<IPython.core.display.HTML object>"
            ],
            "text/html": [
              "<table border=\"1\" class=\"dataframe\">\n",
              "  <thead>\n",
              "    <tr style=\"text-align: right;\">\n",
              "      <th>text</th>\n",
              "      <th>target</th>\n",
              "    </tr>\n",
              "  </thead>\n",
              "  <tbody>\n",
              "    <tr>\n",
              "      <td>xxbos xxmaj the last thing i ever wanted to do was hurt you . xxmaj and i did n't think it would have . xxmaj you 'd laugh , be embarassed , delete the xxunk and keep going . xxmaj but as far as i knew , it was n't even up . xxmaj the fact that you even felt like i would do it to hurt you shows you</td>\n",
              "      <td>ham</td>\n",
              "    </tr>\n",
              "    <tr>\n",
              "      <td>xxbos a xxmaj boy loved a gal . xxmaj he xxunk bt she did nt mind . xxmaj he xxunk xxunk xxunk , xxmaj bt her frnds xxunk xxunk . xxmaj again d boy decided 2 xxunk d gal , xxunk time a xxunk was xxunk towards d gal . xxmaj xxunk it was about 2 hit d girl , d boy ran like hell n saved her . xxmaj</td>\n",
              "      <td>ham</td>\n",
              "    </tr>\n",
              "    <tr>\n",
              "      <td>xxbos xxmaj solve d xxmaj case : a xxmaj man xxmaj was xxmaj found xxmaj murdered xxmaj on &lt; xxup decimal &gt; . &lt; # &gt; afternoon . 1,his wife called xxmaj police . 2,police questioned everyone . 3,wife : xxmaj sir , i was sleeping , when the murder took place . 4.cook : i was cooking . 5.gardener : i was picking vegetables . 6.house - xxmaj maid</td>\n",
              "      <td>ham</td>\n",
              "    </tr>\n",
              "    <tr>\n",
              "      <td>xxbos xxmaj storming msg : xxmaj wen u lift d phne , u say \" xxup hello \" xxmaj do u knw wt is d real meaning of xxup hello ? ? . . . xxmaj it 's d name of a girl .. ! . . . xxmaj yes .. xxmaj and u knw who is dat girl ? ? \" xxmaj margaret xxmaj hello \" xxmaj she is</td>\n",
              "      <td>ham</td>\n",
              "    </tr>\n",
              "    <tr>\n",
              "      <td>xxbos xxmaj you are everywhere xxunk , on the floor , the windows , even on my shirt . xxmaj and sometimes when i open my xxunk , you are all that comes xxunk out . i dream of my world without you , then half my xxunk are out too . a time of joy for me , lots of tv shows i.ll see . xxmaj but i guess</td>\n",
              "      <td>ham</td>\n",
              "    </tr>\n",
              "  </tbody>\n",
              "</table>"
            ]
          },
          "metadata": {}
        }
      ]
    },
    {
      "cell_type": "code",
      "metadata": {
        "id": "6sjwotSITjHi"
      },
      "source": [
        "# create the classifier\n",
        "learn_classifier = text_classifier_learner(data_clas, drop_mult=0.7, arch = AWD_LSTM)"
      ],
      "execution_count": 114,
      "outputs": []
    },
    {
      "cell_type": "code",
      "metadata": {
        "id": "sfzqId9jTjHi",
        "colab": {
          "base_uri": "https://localhost:8080/"
        },
        "outputId": "165c8a46-3918-49d8-8847-13b4f4fd36ed"
      },
      "source": [
        "# load language model\n",
        "learn_classifier.load_encoder('my_awsome_encoder')"
      ],
      "execution_count": 115,
      "outputs": [
        {
          "output_type": "execute_result",
          "data": {
            "text/plain": [
              "RNNLearner(data=TextClasDataBunch;\n",
              "\n",
              "Train: LabelList (3900 items)\n",
              "x: TextList\n",
              "xxbos i liked your new house,xxbos xxmaj xxunk i 'm walking in xxunk now ü faster come down ... xxmaj me very hungry ...,xxbos xxmaj wan2 win a meet+greet with xxmaj westlife 4 u or a m8 ? xxmaj they are currently on what tour ? 1)unbreakable , 2)untamed , 3)unkempt . xxmaj text 1,2 or 3 to 83049 . xxmaj cost 50p + std text,xxbos xxmaj otherwise had part time job na - tuition ..,xxbos xxmaj wait , do you know if xxunk in town ? i bet she does hella drugs !\n",
              "y: CategoryList\n",
              "ham,ham,spam,ham,ham\n",
              "Path: .;\n",
              "\n",
              "Valid: LabelList (1672 items)\n",
              "x: TextList\n",
              "xxbos xxmaj not a lot has happened here . xxmaj feels very xxunk . xxmaj xxunk is at her xxunk and xxunk is working lots . xxmaj just me and xxunk in at the mo . xxmaj how have you been ?,xxbos xxmaj the current xxunk bid is xxunk . xxmaj to xxunk this auction send xxup out . xxmaj customer xxmaj care : xxunk,xxbos xxmaj are you free xxunk i call now ?,xxbos xxmaj cold . xxmaj do nt be sad dear,xxbos xxmaj cool , text me when you 're xxunk\n",
              "y: CategoryList\n",
              "ham,spam,ham,ham,ham\n",
              "Path: .;\n",
              "\n",
              "Test: None, model=SequentialRNN(\n",
              "  (0): MultiBatchEncoder(\n",
              "    (module): AWD_LSTM(\n",
              "      (encoder): Embedding(3552, 400, padding_idx=1)\n",
              "      (encoder_dp): EmbeddingDropout(\n",
              "        (emb): Embedding(3552, 400, padding_idx=1)\n",
              "      )\n",
              "      (rnns): ModuleList(\n",
              "        (0): WeightDropout(\n",
              "          (module): LSTM(400, 1152, batch_first=True)\n",
              "        )\n",
              "        (1): WeightDropout(\n",
              "          (module): LSTM(1152, 1152, batch_first=True)\n",
              "        )\n",
              "        (2): WeightDropout(\n",
              "          (module): LSTM(1152, 400, batch_first=True)\n",
              "        )\n",
              "      )\n",
              "      (input_dp): RNNDropout()\n",
              "      (hidden_dps): ModuleList(\n",
              "        (0): RNNDropout()\n",
              "        (1): RNNDropout()\n",
              "        (2): RNNDropout()\n",
              "      )\n",
              "    )\n",
              "  )\n",
              "  (1): PoolingLinearClassifier(\n",
              "    (layers): Sequential(\n",
              "      (0): BatchNorm1d(1200, eps=1e-05, momentum=0.1, affine=True, track_running_stats=True)\n",
              "      (1): Dropout(p=0.27999999999999997, inplace=False)\n",
              "      (2): Linear(in_features=1200, out_features=50, bias=True)\n",
              "      (3): ReLU(inplace=True)\n",
              "      (4): BatchNorm1d(50, eps=1e-05, momentum=0.1, affine=True, track_running_stats=True)\n",
              "      (5): Dropout(p=0.1, inplace=False)\n",
              "      (6): Linear(in_features=50, out_features=2, bias=True)\n",
              "    )\n",
              "  )\n",
              "), opt_func=functools.partial(<class 'torch.optim.adam.Adam'>, betas=(0.9, 0.99)), loss_func=FlattenedLoss of CrossEntropyLoss(), metrics=[<function accuracy at 0x7f00706ef320>], true_wd=True, bn_wd=True, wd=0.01, train_bn=True, path=PosixPath('.'), model_dir='models', callback_fns=[functools.partial(<class 'fastai.basic_train.Recorder'>, add_time=True, silent=False)], callbacks=[RNNTrainer\n",
              "learn: ...\n",
              "alpha: 2.0\n",
              "beta: 1.0], layer_groups=[Sequential(\n",
              "  (0): Embedding(3552, 400, padding_idx=1)\n",
              "  (1): EmbeddingDropout(\n",
              "    (emb): Embedding(3552, 400, padding_idx=1)\n",
              "  )\n",
              "), Sequential(\n",
              "  (0): WeightDropout(\n",
              "    (module): LSTM(400, 1152, batch_first=True)\n",
              "  )\n",
              "  (1): RNNDropout()\n",
              "), Sequential(\n",
              "  (0): WeightDropout(\n",
              "    (module): LSTM(1152, 1152, batch_first=True)\n",
              "  )\n",
              "  (1): RNNDropout()\n",
              "), Sequential(\n",
              "  (0): WeightDropout(\n",
              "    (module): LSTM(1152, 400, batch_first=True)\n",
              "  )\n",
              "  (1): RNNDropout()\n",
              "), Sequential(\n",
              "  (0): PoolingLinearClassifier(\n",
              "    (layers): Sequential(\n",
              "      (0): BatchNorm1d(1200, eps=1e-05, momentum=0.1, affine=True, track_running_stats=True)\n",
              "      (1): Dropout(p=0.27999999999999997, inplace=False)\n",
              "      (2): Linear(in_features=1200, out_features=50, bias=True)\n",
              "      (3): ReLU(inplace=True)\n",
              "      (4): BatchNorm1d(50, eps=1e-05, momentum=0.1, affine=True, track_running_stats=True)\n",
              "      (5): Dropout(p=0.1, inplace=False)\n",
              "      (6): Linear(in_features=50, out_features=2, bias=True)\n",
              "    )\n",
              "  )\n",
              ")], add_time=True, silent=False)"
            ]
          },
          "metadata": {},
          "execution_count": 115
        }
      ]
    },
    {
      "cell_type": "code",
      "metadata": {
        "id": "yQzxgvqSTjHi",
        "colab": {
          "base_uri": "https://localhost:8080/",
          "height": 484
        },
        "outputId": "d531d949-b45b-4cf5-b5ff-46891237bbcb"
      },
      "source": [
        "# train classifier\n",
        "learn_classifier.lr_find()\n",
        "learn_classifier.recorder.plot(suggestion=True)"
      ],
      "execution_count": 116,
      "outputs": [
        {
          "output_type": "display_data",
          "data": {
            "text/plain": [
              "<IPython.core.display.HTML object>"
            ],
            "text/html": [
              "\n",
              "<style>\n",
              "    /* Turns off some styling */\n",
              "    progress {\n",
              "        /* gets rid of default border in Firefox and Opera. */\n",
              "        border: none;\n",
              "        /* Needs to be in here for Safari polyfill so background images work as expected. */\n",
              "        background-size: auto;\n",
              "    }\n",
              "    .progress-bar-interrupted, .progress-bar-interrupted::-webkit-progress-bar {\n",
              "        background: #F44336;\n",
              "    }\n",
              "</style>\n"
            ]
          },
          "metadata": {}
        },
        {
          "output_type": "display_data",
          "data": {
            "text/plain": [
              "<IPython.core.display.HTML object>"
            ],
            "text/html": [
              "\n",
              "    <div>\n",
              "      <progress value='0' class='' max='1' style='width:300px; height:20px; vertical-align: middle;'></progress>\n",
              "      0.00% [0/1 00:00<00:00]\n",
              "    </div>\n",
              "    \n",
              "<table border=\"1\" class=\"dataframe\">\n",
              "  <thead>\n",
              "    <tr style=\"text-align: left;\">\n",
              "      <th>epoch</th>\n",
              "      <th>train_loss</th>\n",
              "      <th>valid_loss</th>\n",
              "      <th>accuracy</th>\n",
              "      <th>time</th>\n",
              "    </tr>\n",
              "  </thead>\n",
              "  <tbody>\n",
              "  </tbody>\n",
              "</table><p>\n",
              "\n",
              "    <div>\n",
              "      <progress value='92' class='' max='121' style='width:300px; height:20px; vertical-align: middle;'></progress>\n",
              "      76.03% [92/121 00:02<00:00 1.3667]\n",
              "    </div>\n",
              "    "
            ]
          },
          "metadata": {}
        },
        {
          "output_type": "stream",
          "name": "stderr",
          "text": [
            "/usr/local/lib/python3.7/dist-packages/fastai/text/data.py:124: VisibleDeprecationWarning: Creating an ndarray from ragged nested sequences (which is a list-or-tuple of lists-or-tuples-or ndarrays with different lengths or shapes) is deprecated. If you meant to do this, you must specify 'dtype=object' when creating the ndarray.\n",
            "  sort_idx = np.concatenate(np.random.permutation(ck_idx[1:])) if len(ck_idx) > 1 else np.array([],dtype=np.int)\n",
            "<string>:6: VisibleDeprecationWarning: Creating an ndarray from ragged nested sequences (which is a list-or-tuple of lists-or-tuples-or ndarrays with different lengths or shapes) is deprecated. If you meant to do this, you must specify 'dtype=object' when creating the ndarray.\n"
          ]
        },
        {
          "output_type": "stream",
          "name": "stdout",
          "text": [
            "LR Finder is complete, type {learner_name}.recorder.plot() to see the graph.\n",
            "Min numerical gradient: 1.74E-01\n",
            "Min loss divided by 10: 2.51E-02\n"
          ]
        },
        {
          "output_type": "display_data",
          "data": {
            "text/plain": [
              "<Figure size 432x288 with 1 Axes>"
            ],
            "image/png": "[encoded data removed]"
          },
          "metadata": {
            "needs_background": "light"
          }
        }
      ]
    },
    {
      "cell_type": "code",
      "metadata": {
        "id": "7boiRtwsTjHi",
        "colab": {
          "base_uri": "https://localhost:8080/",
          "height": 494
        },
        "outputId": "eb50e7ba-2b84-423f-a3cf-392e2ec42a02"
      },
      "source": [
        "learn_classifier.fit_one_cycle(5, max_lr=1.74e-1, moms=(0.8,0.7))"
      ],
      "execution_count": 119,
      "outputs": [
        {
          "output_type": "display_data",
          "data": {
            "text/plain": [
              "<IPython.core.display.HTML object>"
            ],
            "text/html": [
              "\n",
              "<style>\n",
              "    /* Turns off some styling */\n",
              "    progress {\n",
              "        /* gets rid of default border in Firefox and Opera. */\n",
              "        border: none;\n",
              "        /* Needs to be in here for Safari polyfill so background images work as expected. */\n",
              "        background-size: auto;\n",
              "    }\n",
              "    .progress-bar-interrupted, .progress-bar-interrupted::-webkit-progress-bar {\n",
              "        background: #F44336;\n",
              "    }\n",
              "</style>\n"
            ]
          },
          "metadata": {}
        },
        {
          "output_type": "display_data",
          "data": {
            "text/plain": [
              "<IPython.core.display.HTML object>"
            ],
            "text/html": [
              "<table border=\"1\" class=\"dataframe\">\n",
              "  <thead>\n",
              "    <tr style=\"text-align: left;\">\n",
              "      <th>epoch</th>\n",
              "      <th>train_loss</th>\n",
              "      <th>valid_loss</th>\n",
              "      <th>accuracy</th>\n",
              "      <th>time</th>\n",
              "    </tr>\n",
              "  </thead>\n",
              "  <tbody>\n",
              "    <tr>\n",
              "      <td>0</td>\n",
              "      <td>0.513954</td>\n",
              "      <td>0.122507</td>\n",
              "      <td>0.981459</td>\n",
              "      <td>00:03</td>\n",
              "    </tr>\n",
              "    <tr>\n",
              "      <td>1</td>\n",
              "      <td>0.379145</td>\n",
              "      <td>0.136998</td>\n",
              "      <td>0.941986</td>\n",
              "      <td>00:03</td>\n",
              "    </tr>\n",
              "    <tr>\n",
              "      <td>2</td>\n",
              "      <td>0.300554</td>\n",
              "      <td>0.115665</td>\n",
              "      <td>0.977871</td>\n",
              "      <td>00:03</td>\n",
              "    </tr>\n",
              "    <tr>\n",
              "      <td>3</td>\n",
              "      <td>0.124181</td>\n",
              "      <td>0.093341</td>\n",
              "      <td>0.988636</td>\n",
              "      <td>00:03</td>\n",
              "    </tr>\n",
              "    <tr>\n",
              "      <td>4</td>\n",
              "      <td>0.113043</td>\n",
              "      <td>0.091824</td>\n",
              "      <td>0.979067</td>\n",
              "      <td>00:03</td>\n",
              "    </tr>\n",
              "  </tbody>\n",
              "</table>"
            ]
          },
          "metadata": {}
        },
        {
          "output_type": "stream",
          "name": "stderr",
          "text": [
            "/usr/local/lib/python3.7/dist-packages/fastai/text/data.py:124: VisibleDeprecationWarning: Creating an ndarray from ragged nested sequences (which is a list-or-tuple of lists-or-tuples-or ndarrays with different lengths or shapes) is deprecated. If you meant to do this, you must specify 'dtype=object' when creating the ndarray.\n",
            "  sort_idx = np.concatenate(np.random.permutation(ck_idx[1:])) if len(ck_idx) > 1 else np.array([],dtype=np.int)\n",
            "<string>:6: VisibleDeprecationWarning: Creating an ndarray from ragged nested sequences (which is a list-or-tuple of lists-or-tuples-or ndarrays with different lengths or shapes) is deprecated. If you meant to do this, you must specify 'dtype=object' when creating the ndarray.\n",
            "/usr/local/lib/python3.7/dist-packages/fastai/text/data.py:124: VisibleDeprecationWarning: Creating an ndarray from ragged nested sequences (which is a list-or-tuple of lists-or-tuples-or ndarrays with different lengths or shapes) is deprecated. If you meant to do this, you must specify 'dtype=object' when creating the ndarray.\n",
            "  sort_idx = np.concatenate(np.random.permutation(ck_idx[1:])) if len(ck_idx) > 1 else np.array([],dtype=np.int)\n",
            "<string>:6: VisibleDeprecationWarning: Creating an ndarray from ragged nested sequences (which is a list-or-tuple of lists-or-tuples-or ndarrays with different lengths or shapes) is deprecated. If you meant to do this, you must specify 'dtype=object' when creating the ndarray.\n",
            "/usr/local/lib/python3.7/dist-packages/fastai/text/data.py:124: VisibleDeprecationWarning: Creating an ndarray from ragged nested sequences (which is a list-or-tuple of lists-or-tuples-or ndarrays with different lengths or shapes) is deprecated. If you meant to do this, you must specify 'dtype=object' when creating the ndarray.\n",
            "  sort_idx = np.concatenate(np.random.permutation(ck_idx[1:])) if len(ck_idx) > 1 else np.array([],dtype=np.int)\n",
            "<string>:6: VisibleDeprecationWarning: Creating an ndarray from ragged nested sequences (which is a list-or-tuple of lists-or-tuples-or ndarrays with different lengths or shapes) is deprecated. If you meant to do this, you must specify 'dtype=object' when creating the ndarray.\n",
            "/usr/local/lib/python3.7/dist-packages/fastai/text/data.py:124: VisibleDeprecationWarning: Creating an ndarray from ragged nested sequences (which is a list-or-tuple of lists-or-tuples-or ndarrays with different lengths or shapes) is deprecated. If you meant to do this, you must specify 'dtype=object' when creating the ndarray.\n",
            "  sort_idx = np.concatenate(np.random.permutation(ck_idx[1:])) if len(ck_idx) > 1 else np.array([],dtype=np.int)\n",
            "<string>:6: VisibleDeprecationWarning: Creating an ndarray from ragged nested sequences (which is a list-or-tuple of lists-or-tuples-or ndarrays with different lengths or shapes) is deprecated. If you meant to do this, you must specify 'dtype=object' when creating the ndarray.\n",
            "/usr/local/lib/python3.7/dist-packages/fastai/text/data.py:124: VisibleDeprecationWarning: Creating an ndarray from ragged nested sequences (which is a list-or-tuple of lists-or-tuples-or ndarrays with different lengths or shapes) is deprecated. If you meant to do this, you must specify 'dtype=object' when creating the ndarray.\n",
            "  sort_idx = np.concatenate(np.random.permutation(ck_idx[1:])) if len(ck_idx) > 1 else np.array([],dtype=np.int)\n",
            "<string>:6: VisibleDeprecationWarning: Creating an ndarray from ragged nested sequences (which is a list-or-tuple of lists-or-tuples-or ndarrays with different lengths or shapes) is deprecated. If you meant to do this, you must specify 'dtype=object' when creating the ndarray.\n"
          ]
        }
      ]
    },
    {
      "cell_type": "code",
      "metadata": {
        "id": "ToR6na02TjHi",
        "colab": {
          "base_uri": "https://localhost:8080/",
          "height": 279
        },
        "outputId": "b68fd6ef-e901-456b-e5d3-25599946a849"
      },
      "source": [
        "learn_classifier.recorder.plot_losses()"
      ],
      "execution_count": 120,
      "outputs": [
        {
          "output_type": "display_data",
          "data": {
            "text/plain": [
              "<Figure size 432x288 with 1 Axes>"
            ],
            "image/png": "[encoded data removed]"
          },
          "metadata": {
            "needs_background": "light"
          }
        }
      ]
    },
    {
      "cell_type": "code",
      "metadata": {
        "id": "BLHJl3oQTjHi",
        "colab": {
          "base_uri": "https://localhost:8080/",
          "height": 484
        },
        "outputId": "ff02c9c8-f845-426b-8031-31eda813bbba"
      },
      "source": [
        "lang_mod.freeze_to(-1)\n",
        "\n",
        "learn_classifier.lr_find()\n",
        "learn_classifier.recorder.plot(suggestion=True)"
      ],
      "execution_count": 121,
      "outputs": [
        {
          "output_type": "display_data",
          "data": {
            "text/plain": [
              "<IPython.core.display.HTML object>"
            ],
            "text/html": [
              "\n",
              "<style>\n",
              "    /* Turns off some styling */\n",
              "    progress {\n",
              "        /* gets rid of default border in Firefox and Opera. */\n",
              "        border: none;\n",
              "        /* Needs to be in here for Safari polyfill so background images work as expected. */\n",
              "        background-size: auto;\n",
              "    }\n",
              "    .progress-bar-interrupted, .progress-bar-interrupted::-webkit-progress-bar {\n",
              "        background: #F44336;\n",
              "    }\n",
              "</style>\n"
            ]
          },
          "metadata": {}
        },
        {
          "output_type": "display_data",
          "data": {
            "text/plain": [
              "<IPython.core.display.HTML object>"
            ],
            "text/html": [
              "\n",
              "    <div>\n",
              "      <progress value='0' class='' max='1' style='width:300px; height:20px; vertical-align: middle;'></progress>\n",
              "      0.00% [0/1 00:00<00:00]\n",
              "    </div>\n",
              "    \n",
              "<table border=\"1\" class=\"dataframe\">\n",
              "  <thead>\n",
              "    <tr style=\"text-align: left;\">\n",
              "      <th>epoch</th>\n",
              "      <th>train_loss</th>\n",
              "      <th>valid_loss</th>\n",
              "      <th>accuracy</th>\n",
              "      <th>time</th>\n",
              "    </tr>\n",
              "  </thead>\n",
              "  <tbody>\n",
              "  </tbody>\n",
              "</table><p>\n",
              "\n",
              "    <div>\n",
              "      <progress value='79' class='' max='121' style='width:300px; height:20px; vertical-align: middle;'></progress>\n",
              "      65.29% [79/121 00:02<00:01 0.0992]\n",
              "    </div>\n",
              "    "
            ]
          },
          "metadata": {}
        },
        {
          "output_type": "stream",
          "name": "stderr",
          "text": [
            "/usr/local/lib/python3.7/dist-packages/fastai/text/data.py:124: VisibleDeprecationWarning: Creating an ndarray from ragged nested sequences (which is a list-or-tuple of lists-or-tuples-or ndarrays with different lengths or shapes) is deprecated. If you meant to do this, you must specify 'dtype=object' when creating the ndarray.\n",
            "  sort_idx = np.concatenate(np.random.permutation(ck_idx[1:])) if len(ck_idx) > 1 else np.array([],dtype=np.int)\n",
            "<string>:6: VisibleDeprecationWarning: Creating an ndarray from ragged nested sequences (which is a list-or-tuple of lists-or-tuples-or ndarrays with different lengths or shapes) is deprecated. If you meant to do this, you must specify 'dtype=object' when creating the ndarray.\n"
          ]
        },
        {
          "output_type": "stream",
          "name": "stdout",
          "text": [
            "LR Finder is complete, type {learner_name}.recorder.plot() to see the graph.\n",
            "Min numerical gradient: 1.58E-06\n",
            "Min loss divided by 10: 4.79E-03\n"
          ]
        },
        {
          "output_type": "display_data",
          "data": {
            "text/plain": [
              "<Figure size 432x288 with 1 Axes>"
            ],
            "image/png": "[encoded data removed]"
          },
          "metadata": {
            "needs_background": "light"
          }
        }
      ]
    },
    {
      "cell_type": "markdown",
      "metadata": {
        "id": "ZyADkr6yTyG9"
      },
      "source": [
        "Test out the classification model on spam and non-spam examples."
      ]
    },
    {
      "cell_type": "code",
      "metadata": {
        "colab": {
          "base_uri": "https://localhost:8080/"
        },
        "id": "Y_KKaOnrTjHj",
        "outputId": "9e1d30b3-9acb-4fd5-81d5-8513d2fbc1ef"
      },
      "source": [
        "# predict\n",
        "learn_classifier.predict('did you buy the groceries for dinner? :)')"
      ],
      "execution_count": 122,
      "outputs": [
        {
          "output_type": "execute_result",
          "data": {
            "text/plain": [
              "(Category tensor(0), tensor(0), tensor([9.9927e-01, 7.3270e-04]))"
            ]
          },
          "metadata": {},
          "execution_count": 122
        }
      ]
    },
    {
      "cell_type": "code",
      "metadata": {
        "colab": {
          "base_uri": "https://localhost:8080/"
        },
        "id": "A8Xv4N9STjHj",
        "outputId": "d34ac9db-bcf9-4930-a9e5-8a112f4fd241"
      },
      "source": [
        "# predict\n",
        "learn_classifier.predict('Free entry call back now')"
      ],
      "execution_count": 123,
      "outputs": [
        {
          "output_type": "execute_result",
          "data": {
            "text/plain": [
              "(Category tensor(1), tensor(1), tensor([0.4275, 0.5725]))"
            ]
          },
          "metadata": {},
          "execution_count": 123
        }
      ]
    },
    {
      "cell_type": "markdown",
      "metadata": {
        "id": "gcUOVjveT8Xu"
      },
      "source": [
        "Next we will evaluate on all of our validation data."
      ]
    },
    {
      "cell_type": "code",
      "metadata": {
        "colab": {
          "base_uri": "https://localhost:8080/",
          "height": 35
        },
        "id": "jkvU1PvTTjHj",
        "outputId": "5ad4b8cc-c2e2-4d74-988c-151be21bb24d"
      },
      "source": [
        "# get predictions from validation\n",
        "valid_preds, valid_label=learn_classifier.get_preds(ds_type=DatasetType.Valid, ordered=True)\n",
        "valid_preds.shape"
      ],
      "execution_count": 124,
      "outputs": [
        {
          "output_type": "display_data",
          "data": {
            "text/plain": [
              "<IPython.core.display.HTML object>"
            ],
            "text/html": [
              "\n",
              "<style>\n",
              "    /* Turns off some styling */\n",
              "    progress {\n",
              "        /* gets rid of default border in Firefox and Opera. */\n",
              "        border: none;\n",
              "        /* Needs to be in here for Safari polyfill so background images work as expected. */\n",
              "        background-size: auto;\n",
              "    }\n",
              "    .progress-bar-interrupted, .progress-bar-interrupted::-webkit-progress-bar {\n",
              "        background: #F44336;\n",
              "    }\n",
              "</style>\n"
            ]
          },
          "metadata": {}
        },
        {
          "output_type": "display_data",
          "data": {
            "text/plain": [
              "<IPython.core.display.HTML object>"
            ],
            "text/html": [
              ""
            ]
          },
          "metadata": {}
        },
        {
          "output_type": "execute_result",
          "data": {
            "text/plain": [
              "torch.Size([1672, 2])"
            ]
          },
          "metadata": {},
          "execution_count": 124
        }
      ]
    },
    {
      "cell_type": "markdown",
      "metadata": {
        "id": "s4UopYcrWw38"
      },
      "source": [
        "## Part 1. Evaluate Performance [10pt]\n",
        "\n",
        "### Part (a) [5pt]\n",
        "\n",
        "Implement the above helper code for spam detection. \n",
        "\n",
        "What is the accuracy obtained with ULMFiT? How does ULMFiT compare to the approach in the first part using only LSTM?"
      ]
    },
    {
      "cell_type": "code",
      "metadata": {
        "id": "hJFv4ywTWw4F",
        "colab": {
          "base_uri": "https://localhost:8080/"
        },
        "outputId": "460cb1ba-2f7b-4e0c-ab28-d7d88fdd4b53"
      },
      "source": [
        "correct, total = 0,0\n",
        "pred = valid_preds.max(1, keepdim=True)[1]\n",
        "correct += pred.eq(valid_label.view_as(pred)).sum().item()\n",
        "total += valid_label.shape[0]\n",
        "print('Validation Accuracy of ULMFiT model is:',round(float(correct/total),4)*100,'%')"
      ],
      "execution_count": 125,
      "outputs": [
        {
          "output_type": "stream",
          "name": "stdout",
          "text": [
            "Validation Accuracy of ULMFiT model is: 97.91 %\n"
          ]
        }
      ]
    },
    {
      "cell_type": "markdown",
      "source": [
        "Observation: Previously we got 97.3% on validaiton dataset and 96.6% on testing set but in this ULMFit model 97.91% accuracy was obtained. The model definitely is more or less on par with the RNN model prepared."
      ],
      "metadata": {
        "id": "dTpZktILWdis"
      }
    },
    {
      "cell_type": "markdown",
      "metadata": {
        "id": "ybdyEKx5Ww4F"
      },
      "source": [
        "### Part (b) [5pt]\n",
        "Provide a confusion matrix of the performance for the two models. How do they compare? Are there any qualitative differences between the performances (i.e. examine the samples for which the models differred)?"
      ]
    },
    {
      "cell_type": "code",
      "metadata": {
        "id": "vuxLCHhFWw4F"
      },
      "source": [
        "from sklearn.metrics import confusion_matrix\n",
        "import seaborn as sns"
      ],
      "execution_count": 68,
      "outputs": []
    },
    {
      "cell_type": "code",
      "source": [
        "conf_matrix = confusion_matrix(y_true=valid_label, y_pred=pred)"
      ],
      "metadata": {
        "id": "k98HP7heX1ev"
      },
      "execution_count": 126,
      "outputs": []
    },
    {
      "cell_type": "code",
      "source": [
        "ax = sns.heatmap(conf_matrix/np.sum(conf_matrix), annot=True, \n",
        "            fmt='.2%', cmap='Blues',edgecolor='k', linewidth=2, zorder=3,cbar=False)\n",
        "\n",
        "ax.set_title('Confusion Matrix ULMFiT model\\n',size=15)\n",
        "ax.set_xlabel('\\nPredicted Values',size=13)\n",
        "ax.set_ylabel('Actual Values',size=13)\n",
        "\n",
        "ax.xaxis.set_ticklabels(['ham','spam'])\n",
        "ax.yaxis.set_ticklabels(['ham','spam'])\n",
        "\n",
        "plt.show()\n"
      ],
      "metadata": {
        "colab": {
          "base_uri": "https://localhost:8080/",
          "height": 333
        },
        "id": "IuSLqJ2dZEO_",
        "outputId": "7baf8f76-0d93-4d22-b333-351ae3190bc7"
      },
      "execution_count": 127,
      "outputs": [
        {
          "output_type": "display_data",
          "data": {
            "text/plain": [
              "<Figure size 432x288 with 1 Axes>"
            ],
            "image/png": "[encoded data removed]"
          },
          "metadata": {
            "needs_background": "light"
          }
        }
      ]
    },
    {
      "cell_type": "code",
      "source": [
        "best_model = sd_RNN(input_size = len(text_field.vocab),hidden_size = 10,num_classes=2,pooling=True,pool_type=1)\n",
        "best_model_path = get_model_name(best_model.name,32,0.001,29,10,2)\n",
        "# model_path = \"/content/model_sd_RNN_bs32_lr0.001_epoch28_hidden10_out2\"\n",
        "state = torch.load(best_model_path)\n",
        "best_model.load_state_dict(state)"
      ],
      "metadata": {
        "colab": {
          "base_uri": "https://localhost:8080/"
        },
        "id": "wLQ4KJGIa_4i",
        "outputId": "5d51f2ca-e29c-40e2-a374-c2bc4a73f08a"
      },
      "execution_count": 71,
      "outputs": [
        {
          "output_type": "execute_result",
          "data": {
            "text/plain": [
              "<All keys matched successfully>"
            ]
          },
          "metadata": {},
          "execution_count": 71
        }
      ]
    },
    {
      "cell_type": "code",
      "source": [
        "test_batcher = torchtext.legacy.data.BucketIterator(test,\n",
        "                                                    batch_size=1,\n",
        "                                                    sort_key=lambda x: len(x.sms), # to minimize padding\n",
        "                                                    sort_within_batch=True,        # sort within each batch\n",
        "                                                    repeat=False) "
      ],
      "metadata": {
        "id": "eGjOFSW1dPbs"
      },
      "execution_count": 72,
      "outputs": []
    },
    {
      "cell_type": "code",
      "source": [
        "rnn_pred = []\n",
        "rnn_act = []\n",
        "for data, labels in test_batcher:\n",
        "    output = best_model(data[0])\n",
        "    pred = output.max(1, keepdim=True)[1]\n",
        "    rnn_act.append(labels.item())\n",
        "    rnn_pred.append(pred.item())\n"
      ],
      "metadata": {
        "id": "8_3Wbp6MeNz0"
      },
      "execution_count": 73,
      "outputs": []
    },
    {
      "cell_type": "code",
      "source": [
        "conf_matrix_rnn = confusion_matrix(y_true=rnn_act, y_pred=rnn_pred)"
      ],
      "metadata": {
        "id": "BlQ_0PJMe2es"
      },
      "execution_count": 80,
      "outputs": []
    },
    {
      "cell_type": "code",
      "source": [
        "ax = sns.heatmap(conf_matrix_rnn/np.sum(conf_matrix_rnn), annot=True, \n",
        "            fmt='.2%', cmap='Reds',edgecolor='k', linewidth=2, zorder=3,cbar=False)\n",
        "\n",
        "ax.set_title('Confusion Matrix LSTM model\\n',size=15)\n",
        "ax.set_xlabel('\\nPredicted Values',size=13)\n",
        "ax.set_ylabel('Actual Values',size=13)\n",
        "\n",
        "ax.xaxis.set_ticklabels(['ham','spam'])\n",
        "ax.yaxis.set_ticklabels(['ham','spam'])\n",
        "\n",
        "plt.show()"
      ],
      "metadata": {
        "colab": {
          "base_uri": "https://localhost:8080/",
          "height": 333
        },
        "id": "s5C4kvIuf1yx",
        "outputId": "3c6842c2-1164-42a4-d9a4-9623a4b01680"
      },
      "execution_count": 81,
      "outputs": [
        {
          "output_type": "display_data",
          "data": {
            "text/plain": [
              "<Figure size 432x288 with 1 Axes>"
            ],
            "image/png": "[encoded data removed]"
          },
          "metadata": {
            "needs_background": "light"
          }
        }
      ]
    },
    {
      "cell_type": "markdown",
      "source": [
        "Observation: From the result we can see that very slight difference between the LSTM and ULMFit model, ULMFit model was able to classify true positive and but not true negatives."
      ],
      "metadata": {
        "id": "B7eFVpUDgQcA"
      }
    },
    {
      "cell_type": "markdown",
      "metadata": {
        "id": "F9BpSLGBWw4F"
      },
      "source": [
        "## Part 2. Evaluate on New Data [10pt]\n",
        "\n",
        "### Part (a) [4pt]\n",
        "What is your model's prediction of the probability that the SMS message \"machine learning is sooo cool!\" is spam?"
      ]
    },
    {
      "cell_type": "code",
      "metadata": {
        "id": "Ho0F4VMCnzXR",
        "colab": {
          "base_uri": "https://localhost:8080/"
        },
        "outputId": "3defc186-29e6-4ab4-d2bd-48a0bded9e83"
      },
      "source": [
        "msg = \"machine learning is sooo cool!\"\n",
        "value = learn_classifier.predict(msg)\n",
        "print(f\"probability that the message is spam: {round(value[2][1].item(),4)*100}%\")"
      ],
      "execution_count": 135,
      "outputs": [
        {
          "output_type": "stream",
          "name": "stdout",
          "text": [
            "probability that the message is spam: 0.0%\n"
          ]
        }
      ]
    },
    {
      "cell_type": "markdown",
      "source": [
        "Observation: compared to the RNN model previously, the spam classification is more generalised, it was able to tell that the message was not spam with approx 100% confidence."
      ],
      "metadata": {
        "id": "iRaGem0HkXnT"
      }
    },
    {
      "cell_type": "markdown",
      "metadata": {
        "id": "H4FlSj_Mn2yY"
      },
      "source": [
        "### Part (b) [3 pt] \n",
        "Load 5 sample sentences from your spam mail and test it out out the two models you created. How well do they perform?"
      ]
    },
    {
      "cell_type": "code",
      "metadata": {
        "id": "y3DCyMW_n05f"
      },
      "source": [
        "def spam_ham_classification(text):\n",
        "    value_ulmfit = learn_classifier.predict(text)\n",
        "    msg_tensor_lstm = torch.tensor([text_field.vocab.stoi[i] for i in text])\n",
        "    msg_tensor_lstm = torch.unsqueeze(msg_tensor_lstm,0)\n",
        "    output_lstm = best_model(msg_tensor_lstm)\n",
        "    prob_spam_lstm = F.softmax(output_lstm,dim=1)[0][1]*100\n",
        "    print(f\"Probability of message being spam from ULMFit model: {round(value_ulmfit[2][1].item()*100,2)}%\")\n",
        "    print(f\"Probability of message being spam from LSTM model: {round(prob_spam_lstm.item(),2)}%\")"
      ],
      "execution_count": 154,
      "outputs": []
    },
    {
      "cell_type": "code",
      "source": [
        "spam_ham_classification(\"₹20,000 off* exchange offer, Loans at just 9.99%* & much more 😍 | Ola Cars Expo\")"
      ],
      "metadata": {
        "colab": {
          "base_uri": "https://localhost:8080/"
        },
        "id": "I6D2cpayDAAw",
        "outputId": "ee279b7c-e61d-4476-fdc9-b7958de44a23"
      },
      "execution_count": 162,
      "outputs": [
        {
          "output_type": "stream",
          "name": "stdout",
          "text": [
            "Probability of message being spam from ULMFit model: 1.91%\n",
            "Probability of message being spam from LSTM model: 98.8%\n"
          ]
        }
      ]
    },
    {
      "cell_type": "code",
      "source": [
        "spam_ham_classification(\"5000+ H1B Internships and Jobs, Start Applying! 🔥💯🚀\")"
      ],
      "metadata": {
        "colab": {
          "base_uri": "https://localhost:8080/"
        },
        "id": "SwFS5e9NRLIq",
        "outputId": "4849308f-13e0-4e1f-f655-72f9484f6135"
      },
      "execution_count": 156,
      "outputs": [
        {
          "output_type": "stream",
          "name": "stdout",
          "text": [
            "Probability of message being spam from ULMFit model: 53.72%\n",
            "Probability of message being spam from LSTM model: 98.38%\n"
          ]
        }
      ]
    },
    {
      "cell_type": "code",
      "source": [
        "spam_ham_classification(\"Click here for £500 amazon gift card\")"
      ],
      "metadata": {
        "colab": {
          "base_uri": "https://localhost:8080/"
        },
        "id": "VzdVYyzpRNNr",
        "outputId": "d587368b-e90f-4868-fca6-009be7d80aff"
      },
      "execution_count": 165,
      "outputs": [
        {
          "output_type": "stream",
          "name": "stdout",
          "text": [
            "Probability of message being spam from ULMFit model: 78.16%\n",
            "Probability of message being spam from LSTM model: 99.26%\n"
          ]
        }
      ]
    },
    {
      "cell_type": "code",
      "source": [
        "spam_ham_classification(\"No Annual Charges, Get your lifetime free Axis Bank Credit Card Now\")"
      ],
      "metadata": {
        "colab": {
          "base_uri": "https://localhost:8080/"
        },
        "id": "EjMLqDbuROet",
        "outputId": "d97e884b-7adc-4c3f-81b0-90628561c435"
      },
      "execution_count": 158,
      "outputs": [
        {
          "output_type": "stream",
          "name": "stdout",
          "text": [
            "Probability of message being spam from ULMFit model: 40.43%\n",
            "Probability of message being spam from LSTM model: 0.16%\n"
          ]
        }
      ]
    },
    {
      "cell_type": "code",
      "source": [
        "spam_ham_classification(\"Order Ola Dash's Holi special collection and get them home in 10 mins!\")"
      ],
      "metadata": {
        "colab": {
          "base_uri": "https://localhost:8080/"
        },
        "id": "qnsdgnt-RPN6",
        "outputId": "8672793f-d8a4-4b3d-9f4a-106b2ac97029"
      },
      "execution_count": 160,
      "outputs": [
        {
          "output_type": "stream",
          "name": "stdout",
          "text": [
            "Probability of message being spam from ULMFit model: 27.68%\n",
            "Probability of message being spam from LSTM model: 77.82%\n"
          ]
        }
      ]
    },
    {
      "cell_type": "markdown",
      "source": [
        "Observation: From the Spam mails, we can see that LSTM model performed really well overall. In first example we can see that LSTM probably fit offers and loans words as spam. Fourth example, eventhough it seems like a regular ham mail ULMFit was close to classifying it as spam.  "
      ],
      "metadata": {
        "id": "3DuPmfzWWDdV"
      }
    },
    {
      "cell_type": "markdown",
      "metadata": {
        "id": "646WjsAwWw4F"
      },
      "source": [
        "### Part (c) [3pt]\n",
        "Load 5 sample sentences from your regular mail and test it out out the two models you created. How well do they perform?"
      ]
    },
    {
      "cell_type": "code",
      "metadata": {
        "id": "0OvvnW8OWw4G"
      },
      "source": [
        "def ham_classification(text):\n",
        "    value_ulmfit = learn_classifier.predict(text)\n",
        "    msg_tensor_lstm = torch.tensor([text_field.vocab.stoi[i] for i in text])\n",
        "    msg_tensor_lstm = torch.unsqueeze(msg_tensor_lstm,0)\n",
        "    output_lstm = best_model(msg_tensor_lstm)\n",
        "    prob_spam_lstm = F.softmax(output_lstm,dim=1)[0][0]*100\n",
        "    print(f\"Probability of message being ham from ULMFit model: {round(value_ulmfit[2][0].item()*100,2)}%\")\n",
        "    print(f\"Probability of message being ham from LSTM model: {round(prob_spam_lstm.item(),2)}%\")"
      ],
      "execution_count": 166,
      "outputs": []
    },
    {
      "cell_type": "code",
      "source": [
        "ham_classification(\"Air Canada - 21 Apr 2022: Toronto - Chennai (Madras) (Booking Reference: 4RGAEQ) - Your booking has been modified\")"
      ],
      "metadata": {
        "colab": {
          "base_uri": "https://localhost:8080/"
        },
        "id": "tTPy4WqqUia9",
        "outputId": "e2cfd063-9f06-4689-884a-e52334f7fa54"
      },
      "execution_count": 167,
      "outputs": [
        {
          "output_type": "stream",
          "name": "stdout",
          "text": [
            "Probability of message being ham from ULMFit model: 36.14%\n",
            "Probability of message being ham from LSTM model: 86.68%\n"
          ]
        }
      ]
    },
    {
      "cell_type": "code",
      "source": [
        "ham_classification(\"Your Metergy Bill is Now Available\")"
      ],
      "metadata": {
        "colab": {
          "base_uri": "https://localhost:8080/"
        },
        "id": "UIpvFHLJUiQx",
        "outputId": "f24f593e-e04f-434b-e26b-1c1d9aaa6b5f"
      },
      "execution_count": 168,
      "outputs": [
        {
          "output_type": "stream",
          "name": "stdout",
          "text": [
            "Probability of message being ham from ULMFit model: 92.27%\n",
            "Probability of message being ham from LSTM model: 99.94%\n"
          ]
        }
      ]
    },
    {
      "cell_type": "code",
      "source": [
        "ham_classification(\"INTERAC e-Transfer: SUPRIYA sent you money.\")"
      ],
      "metadata": {
        "colab": {
          "base_uri": "https://localhost:8080/"
        },
        "id": "28JVbxsZUiGz",
        "outputId": "25c6d82c-a9d3-4dd3-c1bf-a39264f5ca91"
      },
      "execution_count": 169,
      "outputs": [
        {
          "output_type": "stream",
          "name": "stdout",
          "text": [
            "Probability of message being ham from ULMFit model: 85.65%\n",
            "Probability of message being ham from LSTM model: 99.63%\n"
          ]
        }
      ]
    },
    {
      "cell_type": "code",
      "source": [
        "ham_classification(\"Credit card payment confirmation – A1B4C8D4E9F3G5H6I9J2\")"
      ],
      "metadata": {
        "colab": {
          "base_uri": "https://localhost:8080/"
        },
        "id": "nEe2cFE3Uh7X",
        "outputId": "534d87d6-8407-48cd-b348-1207511214b0"
      },
      "execution_count": 170,
      "outputs": [
        {
          "output_type": "stream",
          "name": "stdout",
          "text": [
            "Probability of message being ham from ULMFit model: 70.23%\n",
            "Probability of message being ham from LSTM model: 0.11%\n"
          ]
        }
      ]
    },
    {
      "cell_type": "code",
      "source": [
        "ham_classification(\"New Vacancies For data science unpaid intern\")"
      ],
      "metadata": {
        "colab": {
          "base_uri": "https://localhost:8080/"
        },
        "id": "AAojMPtdUhpb",
        "outputId": "75c8de54-1897-4952-d7a3-afce7fe59ad8"
      },
      "execution_count": 171,
      "outputs": [
        {
          "output_type": "stream",
          "name": "stdout",
          "text": [
            "Probability of message being ham from ULMFit model: 92.82%\n",
            "Probability of message being ham from LSTM model: 99.79%\n"
          ]
        }
      ]
    },
    {
      "cell_type": "markdown",
      "source": [
        "Observation: From the results obtained, we can see that ULMFit model has generalised properly and model was able to segreggate spam from non spam properly. The fourth example we can see that LSTM model has probably fit credit card information to being spam, thats probably why the model was not able to classify it as ham. However, UTMFit model was able to classify it properly."
      ],
      "metadata": {
        "id": "j7uK9_n4VZ1O"
      }
    },
    {
      "cell_type": "markdown",
      "source": [
        "Inference: LSTM model based on the given sample space, has overfit to the certain sequence of words, and ULMFit is not aggressive in classiying spam messages as non spam."
      ],
      "metadata": {
        "id": "l-k2PEshW81f"
      }
    },
    {
      "cell_type": "markdown",
      "metadata": {
        "id": "FYwI4RmFS2RB"
      },
      "source": [
        "### Saving to HTML\n",
        "Detailed instructions for saving to HTML can be found <a href=\"https://stackoverflow.com/questions/53460051/convert-ipynb-notebook-to-html-in-google-colab/64487858#64487858\">here</a>. Provided below are a summary of the instructions:\n",
        "\n",
        "(1) download your ipynb file by clicking on File->Download.ipynb\n",
        "\n",
        "(2) reupload your file to the temporary Google Colab storage (you can access the temporary storage from the tab to the left)\n",
        "\n",
        "(3) run the following:"
      ]
    },
    {
      "cell_type": "code",
      "metadata": {
        "id": "2TrsqdNgS5ex",
        "colab": {
          "base_uri": "https://localhost:8080/",
          "height": 1000
        },
        "outputId": "bd2931b8-8c74-49b1-cb88-69864833db33"
      },
      "source": [
        "%%shell\n",
        "jupyter nbconvert --to html LAB_4_Sequential_Data.ipynb"
      ],
      "execution_count": 172,
      "outputs": [
        {
          "output_type": "stream",
          "name": "stdout",
          "text": [
            "[NbConvertApp] WARNING | pattern 'LAB_4_Sequential_Data.ipynb' matched no files\n",
            "This application is used to convert notebook files (*.ipynb)\n",
            "        to various other formats.\n",
            "\n",
            "        WARNING: THE COMMANDLINE INTERFACE MAY CHANGE IN FUTURE RELEASES.\n",
            "\n",
            "Options\n",
            "=======\n",
            "The options below are convenience aliases to configurable class-options,\n",
            "as listed in the \"Equivalent to\" description-line of the aliases.\n",
            "To see all configurable class-options for some <cmd>, use:\n",
            "    <cmd> --help-all\n",
            "\n",
            "--debug\n",
            "    set log level to logging.DEBUG (maximize logging output)\n",
            "    Equivalent to: [--Application.log_level=10]\n",
            "--show-config\n",
            "    Show the application's configuration (human-readable format)\n",
            "    Equivalent to: [--Application.show_config=True]\n",
            "--show-config-json\n",
            "    Show the application's configuration (json format)\n",
            "    Equivalent to: [--Application.show_config_json=True]\n",
            "--generate-config\n",
            "    generate default config file\n",
            "    Equivalent to: [--JupyterApp.generate_config=True]\n",
            "-y\n",
            "    Answer yes to any questions instead of prompting.\n",
            "    Equivalent to: [--JupyterApp.answer_yes=True]\n",
            "--execute\n",
            "    Execute the notebook prior to export.\n",
            "    Equivalent to: [--ExecutePreprocessor.enabled=True]\n",
            "--allow-errors\n",
            "    Continue notebook execution even if one of the cells throws an error and include the error message in the cell output (the default behaviour is to abort conversion). This flag is only relevant if '--execute' was specified, too.\n",
            "    Equivalent to: [--ExecutePreprocessor.allow_errors=True]\n",
            "--stdin\n",
            "    read a single notebook file from stdin. Write the resulting notebook with default basename 'notebook.*'\n",
            "    Equivalent to: [--NbConvertApp.from_stdin=True]\n",
            "--stdout\n",
            "    Write notebook output to stdout instead of files.\n",
            "    Equivalent to: [--NbConvertApp.writer_class=StdoutWriter]\n",
            "--inplace\n",
            "    Run nbconvert in place, overwriting the existing notebook (only \n",
            "            relevant when converting to notebook format)\n",
            "    Equivalent to: [--NbConvertApp.use_output_suffix=False --NbConvertApp.export_format=notebook --FilesWriter.build_directory=]\n",
            "--clear-output\n",
            "    Clear output of current file and save in place, \n",
            "            overwriting the existing notebook.\n",
            "    Equivalent to: [--NbConvertApp.use_output_suffix=False --NbConvertApp.export_format=notebook --FilesWriter.build_directory= --ClearOutputPreprocessor.enabled=True]\n",
            "--no-prompt\n",
            "    Exclude input and output prompts from converted document.\n",
            "    Equivalent to: [--TemplateExporter.exclude_input_prompt=True --TemplateExporter.exclude_output_prompt=True]\n",
            "--no-input\n",
            "    Exclude input cells and output prompts from converted document. \n",
            "            This mode is ideal for generating code-free reports.\n",
            "    Equivalent to: [--TemplateExporter.exclude_output_prompt=True --TemplateExporter.exclude_input=True]\n",
            "--log-level=<Enum>\n",
            "    Set the log level by value or name.\n",
            "    Choices: any of [0, 10, 20, 30, 40, 50, 'DEBUG', 'INFO', 'WARN', 'ERROR', 'CRITICAL']\n",
            "    Default: 30\n",
            "    Equivalent to: [--Application.log_level]\n",
            "--config=<Unicode>\n",
            "    Full path of a config file.\n",
            "    Default: ''\n",
            "    Equivalent to: [--JupyterApp.config_file]\n",
            "--to=<Unicode>\n",
            "    The export format to be used, either one of the built-in formats\n",
            "            ['asciidoc', 'custom', 'html', 'latex', 'markdown', 'notebook', 'pdf', 'python', 'rst', 'script', 'slides']\n",
            "            or a dotted object name that represents the import path for an\n",
            "            `Exporter` class\n",
            "    Default: 'html'\n",
            "    Equivalent to: [--NbConvertApp.export_format]\n",
            "--template=<Unicode>\n",
            "    Name of the template file to use\n",
            "    Default: ''\n",
            "    Equivalent to: [--TemplateExporter.template_file]\n",
            "--writer=<DottedObjectName>\n",
            "    Writer class used to write the \n",
            "                                        results of the conversion\n",
            "    Default: 'FilesWriter'\n",
            "    Equivalent to: [--NbConvertApp.writer_class]\n",
            "--post=<DottedOrNone>\n",
            "    PostProcessor class used to write the\n",
            "                                        results of the conversion\n",
            "    Default: ''\n",
            "    Equivalent to: [--NbConvertApp.postprocessor_class]\n",
            "--output=<Unicode>\n",
            "    overwrite base name use for output files.\n",
            "                can only be used when converting one notebook at a time.\n",
            "    Default: ''\n",
            "    Equivalent to: [--NbConvertApp.output_base]\n",
            "--output-dir=<Unicode>\n",
            "    Directory to write output(s) to. Defaults\n",
            "                                  to output to the directory of each notebook. To recover\n",
            "                                  previous default behaviour (outputting to the current \n",
            "                                  working directory) use . as the flag value.\n",
            "    Default: ''\n",
            "    Equivalent to: [--FilesWriter.build_directory]\n",
            "--reveal-prefix=<Unicode>\n",
            "    The URL prefix for reveal.js (version 3.x).\n",
            "            This defaults to the reveal CDN, but can be any url pointing to a copy \n",
            "            of reveal.js. \n",
            "            For speaker notes to work, this must be a relative path to a local \n",
            "            copy of reveal.js: e.g., \"reveal.js\".\n",
            "            If a relative path is given, it must be a subdirectory of the\n",
            "            current directory (from which the server is run).\n",
            "            See the usage documentation\n",
            "            (https://nbconvert.readthedocs.io/en/latest/usage.html#reveal-js-html-slideshow)\n",
            "            for more details.\n",
            "    Default: ''\n",
            "    Equivalent to: [--SlidesExporter.reveal_url_prefix]\n",
            "--nbformat=<Enum>\n",
            "    The nbformat version to write.\n",
            "            Use this to downgrade notebooks.\n",
            "    Choices: any of [1, 2, 3, 4]\n",
            "    Default: 4\n",
            "    Equivalent to: [--NotebookExporter.nbformat_version]\n",
            "\n",
            "Examples\n",
            "--------\n",
            "\n",
            "    The simplest way to use nbconvert is\n",
            "\n",
            "            > jupyter nbconvert mynotebook.ipynb\n",
            "\n",
            "            which will convert mynotebook.ipynb to the default format (probably HTML).\n",
            "\n",
            "            You can specify the export format with `--to`.\n",
            "            Options include ['asciidoc', 'custom', 'html', 'latex', 'markdown', 'notebook', 'pdf', 'python', 'rst', 'script', 'slides'].\n",
            "\n",
            "            > jupyter nbconvert --to latex mynotebook.ipynb\n",
            "\n",
            "            Both HTML and LaTeX support multiple output templates. LaTeX includes\n",
            "            'base', 'article' and 'report'.  HTML includes 'basic' and 'full'. You\n",
            "            can specify the flavor of the format used.\n",
            "\n",
            "            > jupyter nbconvert --to html --template basic mynotebook.ipynb\n",
            "\n",
            "            You can also pipe the output to stdout, rather than a file\n",
            "\n",
            "            > jupyter nbconvert mynotebook.ipynb --stdout\n",
            "\n",
            "            PDF is generated via latex\n",
            "\n",
            "            > jupyter nbconvert mynotebook.ipynb --to pdf\n",
            "\n",
            "            You can get (and serve) a Reveal.js-powered slideshow\n",
            "\n",
            "            > jupyter nbconvert myslides.ipynb --to slides --post serve\n",
            "\n",
            "            Multiple notebooks can be given at the command line in a couple of \n",
            "            different ways:\n",
            "\n",
            "            > jupyter nbconvert notebook*.ipynb\n",
            "            > jupyter nbconvert notebook1.ipynb notebook2.ipynb\n",
            "\n",
            "            or you can specify the notebooks list in a config file, containing::\n",
            "\n",
            "                c.NbConvertApp.notebooks = [\"my_notebook.ipynb\"]\n",
            "\n",
            "            > jupyter nbconvert --config mycfg.py\n",
            "\n",
            "To see all available configurables, use `--help-all`.\n",
            "\n"
          ]
        },
        {
          "output_type": "error",
          "ename": "CalledProcessError",
          "evalue": "ignored",
          "traceback": [
            "\u001b[0;31m---------------------------------------------------------------------------\u001b[0m",
            "\u001b[0;31mCalledProcessError\u001b[0m                        Traceback (most recent call last)",
            "\u001b[0;32m<ipython-input-172-79e36f7b26b6>\u001b[0m in \u001b[0;36m<module>\u001b[0;34m()\u001b[0m\n\u001b[0;32m----> 1\u001b[0;31m \u001b[0mget_ipython\u001b[0m\u001b[0;34m(\u001b[0m\u001b[0;34m)\u001b[0m\u001b[0;34m.\u001b[0m\u001b[0mrun_cell_magic\u001b[0m\u001b[0;34m(\u001b[0m\u001b[0;34m'shell'\u001b[0m\u001b[0;34m,\u001b[0m \u001b[0;34m''\u001b[0m\u001b[0;34m,\u001b[0m \u001b[0;34m'jupyter nbconvert --to html LAB_4_Sequential_Data.ipynb'\u001b[0m\u001b[0;34m)\u001b[0m\u001b[0;34m\u001b[0m\u001b[0;34m\u001b[0m\u001b[0m\n\u001b[0m",
            "\u001b[0;32m/usr/local/lib/python3.7/dist-packages/IPython/core/interactiveshell.py\u001b[0m in \u001b[0;36mrun_cell_magic\u001b[0;34m(self, magic_name, line, cell)\u001b[0m\n\u001b[1;32m   2115\u001b[0m             \u001b[0mmagic_arg_s\u001b[0m \u001b[0;34m=\u001b[0m \u001b[0mself\u001b[0m\u001b[0;34m.\u001b[0m\u001b[0mvar_expand\u001b[0m\u001b[0;34m(\u001b[0m\u001b[0mline\u001b[0m\u001b[0;34m,\u001b[0m \u001b[0mstack_depth\u001b[0m\u001b[0;34m)\u001b[0m\u001b[0;34m\u001b[0m\u001b[0;34m\u001b[0m\u001b[0m\n\u001b[1;32m   2116\u001b[0m             \u001b[0;32mwith\u001b[0m \u001b[0mself\u001b[0m\u001b[0;34m.\u001b[0m\u001b[0mbuiltin_trap\u001b[0m\u001b[0;34m:\u001b[0m\u001b[0;34m\u001b[0m\u001b[0;34m\u001b[0m\u001b[0m\n\u001b[0;32m-> 2117\u001b[0;31m                 \u001b[0mresult\u001b[0m \u001b[0;34m=\u001b[0m \u001b[0mfn\u001b[0m\u001b[0;34m(\u001b[0m\u001b[0mmagic_arg_s\u001b[0m\u001b[0;34m,\u001b[0m \u001b[0mcell\u001b[0m\u001b[0;34m)\u001b[0m\u001b[0;34m\u001b[0m\u001b[0;34m\u001b[0m\u001b[0m\n\u001b[0m\u001b[1;32m   2118\u001b[0m             \u001b[0;32mreturn\u001b[0m \u001b[0mresult\u001b[0m\u001b[0;34m\u001b[0m\u001b[0;34m\u001b[0m\u001b[0m\n\u001b[1;32m   2119\u001b[0m \u001b[0;34m\u001b[0m\u001b[0m\n",
            "\u001b[0;32m/usr/local/lib/python3.7/dist-packages/google/colab/_system_commands.py\u001b[0m in \u001b[0;36m_shell_cell_magic\u001b[0;34m(args, cmd)\u001b[0m\n\u001b[1;32m    111\u001b[0m   \u001b[0mresult\u001b[0m \u001b[0;34m=\u001b[0m \u001b[0m_run_command\u001b[0m\u001b[0;34m(\u001b[0m\u001b[0mcmd\u001b[0m\u001b[0;34m,\u001b[0m \u001b[0mclear_streamed_output\u001b[0m\u001b[0;34m=\u001b[0m\u001b[0;32mFalse\u001b[0m\u001b[0;34m)\u001b[0m\u001b[0;34m\u001b[0m\u001b[0;34m\u001b[0m\u001b[0m\n\u001b[1;32m    112\u001b[0m   \u001b[0;32mif\u001b[0m \u001b[0;32mnot\u001b[0m \u001b[0mparsed_args\u001b[0m\u001b[0;34m.\u001b[0m\u001b[0mignore_errors\u001b[0m\u001b[0;34m:\u001b[0m\u001b[0;34m\u001b[0m\u001b[0;34m\u001b[0m\u001b[0m\n\u001b[0;32m--> 113\u001b[0;31m     \u001b[0mresult\u001b[0m\u001b[0;34m.\u001b[0m\u001b[0mcheck_returncode\u001b[0m\u001b[0;34m(\u001b[0m\u001b[0;34m)\u001b[0m\u001b[0;34m\u001b[0m\u001b[0;34m\u001b[0m\u001b[0m\n\u001b[0m\u001b[1;32m    114\u001b[0m   \u001b[0;32mreturn\u001b[0m \u001b[0mresult\u001b[0m\u001b[0;34m\u001b[0m\u001b[0;34m\u001b[0m\u001b[0m\n\u001b[1;32m    115\u001b[0m \u001b[0;34m\u001b[0m\u001b[0m\n",
            "\u001b[0;32m/usr/local/lib/python3.7/dist-packages/google/colab/_system_commands.py\u001b[0m in \u001b[0;36mcheck_returncode\u001b[0;34m(self)\u001b[0m\n\u001b[1;32m    137\u001b[0m     \u001b[0;32mif\u001b[0m \u001b[0mself\u001b[0m\u001b[0;34m.\u001b[0m\u001b[0mreturncode\u001b[0m\u001b[0;34m:\u001b[0m\u001b[0;34m\u001b[0m\u001b[0;34m\u001b[0m\u001b[0m\n\u001b[1;32m    138\u001b[0m       raise subprocess.CalledProcessError(\n\u001b[0;32m--> 139\u001b[0;31m           returncode=self.returncode, cmd=self.args, output=self.output)\n\u001b[0m\u001b[1;32m    140\u001b[0m \u001b[0;34m\u001b[0m\u001b[0m\n\u001b[1;32m    141\u001b[0m   \u001b[0;32mdef\u001b[0m \u001b[0m_repr_pretty_\u001b[0m\u001b[0;34m(\u001b[0m\u001b[0mself\u001b[0m\u001b[0;34m,\u001b[0m \u001b[0mp\u001b[0m\u001b[0;34m,\u001b[0m \u001b[0mcycle\u001b[0m\u001b[0;34m)\u001b[0m\u001b[0;34m:\u001b[0m  \u001b[0;31m# pylint:disable=unused-argument\u001b[0m\u001b[0;34m\u001b[0m\u001b[0;34m\u001b[0m\u001b[0m\n",
            "\u001b[0;31mCalledProcessError\u001b[0m: Command 'jupyter nbconvert --to html LAB_4_Sequential_Data.ipynb' returned non-zero exit status 255."
          ]
        }
      ]
    },
    {
      "cell_type": "markdown",
      "metadata": {
        "id": "nuXhlFlPTY7F"
      },
      "source": [
        "(4) the html file will be available for download in the temporary Google Colab storage\n",
        "\n",
        "(5) review the html file and make sure all the results are visible before submitting your assignment to Quercus"
      ]
    }
  ]
}